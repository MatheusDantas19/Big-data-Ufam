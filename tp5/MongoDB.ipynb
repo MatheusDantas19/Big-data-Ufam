{
  "nbformat": 4,
  "nbformat_minor": 0,
  "metadata": {
    "colab": {
      "name": "MongoDB.ipynb",
      "provenance": [],
      "collapsed_sections": []
    },
    "kernelspec": {
      "name": "python3",
      "display_name": "Python 3"
    },
    "language_info": {
      "name": "python"
    }
  },
  "cells": [
    {
      "cell_type": "code",
      "metadata": {
        "colab": {
          "base_uri": "https://localhost:8080/"
        },
        "id": "tcxGqQrhapA0",
        "outputId": "64630d62-ae8c-42de-9c4b-18532dc44329"
      },
      "source": [
        "!apt install mongodb >log\n",
        "!service mongodb start"
      ],
      "execution_count": null,
      "outputs": [
        {
          "output_type": "stream",
          "text": [
            "\n",
            "WARNING: apt does not have a stable CLI interface. Use with caution in scripts.\n",
            "\n",
            " * Starting database mongodb\n",
            "   ...done.\n"
          ],
          "name": "stdout"
        }
      ]
    },
    {
      "cell_type": "code",
      "metadata": {
        "colab": {
          "base_uri": "https://localhost:8080/"
        },
        "id": "igzesdNnWBfW",
        "outputId": "3f31b059-3744-4afe-b434-176e4c411432"
      },
      "source": [
        "!wget https://snap.stanford.edu/data/bigdata/amazon/amazon-meta.txt.gz\n",
        "!gunzip amazon-meta.txt.gz"
      ],
      "execution_count": null,
      "outputs": [
        {
          "output_type": "stream",
          "text": [
            "--2021-06-30 19:20:23--  https://snap.stanford.edu/data/bigdata/amazon/amazon-meta.txt.gz\n",
            "Resolving snap.stanford.edu (snap.stanford.edu)... 171.64.75.80\n",
            "Connecting to snap.stanford.edu (snap.stanford.edu)|171.64.75.80|:443... connected.\n",
            "HTTP request sent, awaiting response... 200 OK\n",
            "Length: 210807517 (201M) [application/x-gzip]\n",
            "Saving to: ‘amazon-meta.txt.gz’\n",
            "\n",
            "amazon-meta.txt.gz  100%[===================>] 201.04M  8.97MB/s    in 14s     \n",
            "\n",
            "2021-06-30 19:20:37 (14.5 MB/s) - ‘amazon-meta.txt.gz’ saved [210807517/210807517]\n",
            "\n"
          ],
          "name": "stdout"
        }
      ]
    },
    {
      "cell_type": "code",
      "metadata": {
        "id": "XbJTHhmGWUG9"
      },
      "source": [
        "def limpeza(text): #Criando estrutura de dados para o arquivo da amazon\n",
        "  text = text.split('\\n')\n",
        "  # print(text)\n",
        "  flag = 0\n",
        "  vet = {}\n",
        "  for words in text:\n",
        "    # print(words)\n",
        "    #words = words.rstrip()\n",
        "\n",
        "    if words.startswith('Id:'):\n",
        "      vet['id'] = words.split()[1].strip()\n",
        "\n",
        "    elif words.startswith('ASIN:'):\n",
        "      vet['asin'] = words.split('ASIN:')[1].strip()\n",
        "        \n",
        "    elif words.startswith('  title:'):\n",
        "      vet['title'] = words.split('title: ')[1].strip()\n",
        "\n",
        "    elif words.startswith('  group:'):\n",
        "      vet['group'] = words.split('group:')[1].strip()\n",
        "\n",
        "    elif words.startswith('  salesrank:'):\n",
        "      vet['salesrank'] = words.split('salesrank:')[1].strip()\n",
        "\n",
        "    elif words.startswith('  similar:'):\n",
        "      if words.strip()[9] != 0:\n",
        "        vet['similar'] = words.split()[2:]\n",
        "      \n",
        "    elif words.startswith('  categories:'):\n",
        "      vet['categories'] = []\n",
        "\n",
        "    elif words.startswith('   |'):\n",
        "      categories = words.split('|')\n",
        "      if len(categories) == 1:\n",
        "          pass\n",
        "      else:\n",
        "          vet['categories'].append(categories[len(categories)-1])\n",
        "\n",
        "    elif words.startswith('  reviews:'):\n",
        "      vet['avg_rating'] =  words.split(': ')[4]\n",
        "      vet['reviews'] = []\n",
        "\n",
        "    elif words.startswith('    2') or words.startswith('    1'):\n",
        "      aux = words.split()\n",
        "      vet['reviews'].append({'data':aux[0], 'cliente':aux[2], \n",
        "                             'rating':aux[4], 'votes':aux[6], 'helpful':aux[8]})\n",
        "  #print(vet)      \n",
        "  return vet\n",
        "\n",
        "def delimited(file, delimiter, bufsize=4096):\n",
        "  buf = ''\n",
        "  while True:\n",
        "    newbuf = file.read(bufsize)\n",
        "    if not newbuf:\n",
        "      yield buf\n",
        "      return\n",
        "    buf += newbuf\n",
        "    lines = buf.split(delimiter)\n",
        "    for line in lines[:-1]:\n",
        "      yield line\n",
        "    buf = lines[-1]\n"
      ],
      "execution_count": null,
      "outputs": []
    },
    {
      "cell_type": "code",
      "metadata": {
        "colab": {
          "base_uri": "https://localhost:8080/"
        },
        "id": "dRNP7YcHa7ky",
        "outputId": "ed3b2e95-9c3c-4112-fadd-091bece07f60"
      },
      "source": [
        "from pymongo import MongoClient\n",
        "client = MongoClient()\n",
        "\n",
        "client.list_database_names()"
      ],
      "execution_count": null,
      "outputs": [
        {
          "output_type": "execute_result",
          "data": {
            "text/plain": [
              "['admin', 'local']"
            ]
          },
          "metadata": {
            "tags": []
          },
          "execution_count": 5
        }
      ]
    },
    {
      "cell_type": "code",
      "metadata": {
        "id": "844sqFzebFNL"
      },
      "source": [
        "db = client['database']\n",
        "products = db['products']"
      ],
      "execution_count": null,
      "outputs": []
    },
    {
      "cell_type": "code",
      "metadata": {
        "id": "mbYB8yhPcwU4"
      },
      "source": [
        "data = list(delimited(open('amazon-meta.txt', 'r'), '\\n\\n'))"
      ],
      "execution_count": null,
      "outputs": []
    },
    {
      "cell_type": "code",
      "metadata": {
        "id": "Ze3sk8FVWi5W"
      },
      "source": [
        "#Limpeza dos dados \n",
        "cont = 0\n",
        "vetor = []\n",
        "for produto in data:\n",
        "  if (not produto.startswith('#') and not produto == 'Total'):\n",
        "    x = limpeza(produto)\n",
        "    vetor.append(x)\n"
      ],
      "execution_count": null,
      "outputs": []
    },
    {
      "cell_type": "markdown",
      "metadata": {
        "id": "Z1v2qyWDZGx_"
      },
      "source": [
        ""
      ]
    },
    {
      "cell_type": "code",
      "metadata": {
        "colab": {
          "base_uri": "https://localhost:8080/"
        },
        "id": "RnBJOJaxWkSt",
        "outputId": "62b9dea0-d434-41f3-99c9-03554e1f09ab"
      },
      "source": [
        "#Inserindo dentro do banco de dados\n",
        "cont = 0\n",
        "for i in vetor:\n",
        "  cont+=1\n",
        "  if cont > 1:\n",
        "    products.insert_one(i)\n",
        "vetor[1]"
      ],
      "execution_count": null,
      "outputs": [
        {
          "output_type": "execute_result",
          "data": {
            "text/plain": [
              "{'_id': ObjectId('60dcc4398983eee3578b1823'),\n",
              " 'asin': '0827229534',\n",
              " 'avg_rating': '5',\n",
              " 'categories': ['Preaching[12368]', 'Sermons[12370]'],\n",
              " 'group': 'Book',\n",
              " 'id': '1',\n",
              " 'reviews': [{'cliente': 'A2JW67OY8U6HHK',\n",
              "   'data': '2000-7-28',\n",
              "   'helpful': '9',\n",
              "   'rating': '5',\n",
              "   'votes': '10'},\n",
              "  {'cliente': 'A2VE83MZF98ITY',\n",
              "   'data': '2003-12-14',\n",
              "   'helpful': '5',\n",
              "   'rating': '5',\n",
              "   'votes': '6'}],\n",
              " 'salesrank': '396585',\n",
              " 'similar': ['0804215715',\n",
              "  '156101074X',\n",
              "  '0687023955',\n",
              "  '0687074231',\n",
              "  '082721619X'],\n",
              " 'title': 'Patterns of Preaching: A Sermon Sampler'}"
            ]
          },
          "metadata": {
            "tags": []
          },
          "execution_count": 9
        }
      ]
    },
    {
      "cell_type": "markdown",
      "metadata": {
        "id": "PuF5H1GOZbxN"
      },
      "source": [
        "#1) Dado produto, listar os 5 comentários mais úteis e com maior avaliação e os 5 comentários mais úteis e com menor avaliação\n"
      ]
    },
    {
      "cell_type": "code",
      "metadata": {
        "colab": {
          "base_uri": "https://localhost:8080/"
        },
        "id": "iIlEHuqEXWG2",
        "outputId": "68265ad9-5621-4c02-9c31-14ef86e69269"
      },
      "source": [
        "p = products.find_one({'id': '2'})\n",
        "\n",
        "v = sorted(p['reviews'], key=lambda x: (int(x['helpful']), int(x['rating'])),reverse=True)[0:5]\n",
        "v = sorted(v, key=lambda x: (x['rating']),reverse=True)\n",
        "\n",
        "print(\"5 comentários mais úteis ordenados pela maior avaliação\")\n",
        "for i in v:\n",
        "  print(i)\n",
        "\n",
        "print(\"\\n5 comentários mais úteis ordenados pela menor avaliação\")\n",
        "v = sorted(v, key=lambda x: (x['rating']))\n",
        "for i in v:\n",
        "  print(i)"
      ],
      "execution_count": null,
      "outputs": [
        {
          "output_type": "stream",
          "text": [
            "5 comentários mais úteis ordenados pela maior avaliação\n",
            "{'data': '2002-1-24', 'cliente': 'A13SG9ACZ9O5IM', 'rating': '5', 'votes': '8', 'helpful': '8'}\n",
            "{'data': '2002-5-23', 'cliente': 'A1GIL64QK68WKL', 'rating': '5', 'votes': '8', 'helpful': '8'}\n",
            "{'data': '2002-2-6', 'cliente': 'A2P6KAWXJ16234', 'rating': '4', 'votes': '16', 'helpful': '16'}\n",
            "{'data': '2002-3-23', 'cliente': 'A3GO7UV9XX14D8', 'rating': '4', 'votes': '6', 'helpful': '6'}\n",
            "{'data': '2004-2-11', 'cliente': 'A1CP26N8RHYVVO', 'rating': '1', 'votes': '13', 'helpful': '9'}\n",
            "\n",
            "5 comentários mais úteis ordenados pela menor avaliação\n",
            "{'data': '2004-2-11', 'cliente': 'A1CP26N8RHYVVO', 'rating': '1', 'votes': '13', 'helpful': '9'}\n",
            "{'data': '2002-2-6', 'cliente': 'A2P6KAWXJ16234', 'rating': '4', 'votes': '16', 'helpful': '16'}\n",
            "{'data': '2002-3-23', 'cliente': 'A3GO7UV9XX14D8', 'rating': '4', 'votes': '6', 'helpful': '6'}\n",
            "{'data': '2002-1-24', 'cliente': 'A13SG9ACZ9O5IM', 'rating': '5', 'votes': '8', 'helpful': '8'}\n",
            "{'data': '2002-5-23', 'cliente': 'A1GIL64QK68WKL', 'rating': '5', 'votes': '8', 'helpful': '8'}\n"
          ],
          "name": "stdout"
        }
      ]
    },
    {
      "cell_type": "markdown",
      "metadata": {
        "id": "NU22MFilZt2_"
      },
      "source": [
        "#2) Dado um produto, listar os produtos similares com maiores vendas do que ele"
      ]
    },
    {
      "cell_type": "code",
      "metadata": {
        "colab": {
          "base_uri": "https://localhost:8080/"
        },
        "id": "foe_okzhmyvj",
        "outputId": "d4f28d8b-2577-41ab-b7aa-f8db7bcbbcab"
      },
      "source": [
        "p = products.find_one({'id': '2'})\n",
        "\n",
        "c = products.find({\n",
        "        '$and': [\n",
        "            {'asin': {'$in': p['similar']}},\n",
        "            {'salesrank': {'$lt': p['salesrank']}}\n",
        "        ] \n",
        "    }, {\n",
        "        'id': 1,\n",
        "        'title': 1,\n",
        "        'salesrank': 1,\n",
        "        '_id': 0\n",
        "    })\n",
        "\n",
        "for i in list(c):\n",
        "  print(i)"
      ],
      "execution_count": null,
      "outputs": [
        {
          "output_type": "stream",
          "text": [
            "{'id': '62291', 'title': 'Yule: A Celebration of Light and Warmth', 'salesrank': '103012'}\n",
            "{'id': '170507', 'title': 'Midsummer: Magical Celebrations of the Summer Solstice', 'salesrank': '159277'}\n"
          ],
          "name": "stdout"
        }
      ]
    },
    {
      "cell_type": "markdown",
      "metadata": {
        "id": "OIxOlCaBZyDu"
      },
      "source": [
        "#3) Dado um produto, mostrar a evolução diária das médias de avaliação ao longo do intervalo de tempo coberto no arquivo de entrada"
      ]
    },
    {
      "cell_type": "code",
      "metadata": {
        "colab": {
          "base_uri": "https://localhost:8080/"
        },
        "id": "VD0QcumfnlRz",
        "outputId": "74c76abd-1b50-4975-c680-5f790269fc87"
      },
      "source": [
        "def media(text): #media de diaas\n",
        "  vet = {'media':[]}\n",
        "  rate = []\n",
        "  cont = 1\n",
        "  for review in text['reviews']:\n",
        "    rate.append(float(review['rating']))\n",
        "    if cont == 1:\n",
        "      vet['media'].append({'media_evolucao': float(review['rating'])})       \n",
        "    else:\n",
        "      vet['media'].append({'media_evolucao': (sum(rate)) / cont}) \n",
        "\n",
        "    cont+=1\n",
        "  return vet['media']\n",
        "\n",
        "p = products.find_one({'id': '2'}, {'_id': 0, 'id': 1, 'reviews': 1})\n",
        "x = media(p)\n",
        "cont = 0\n",
        "for key, value in p.items():\n",
        "  for i in value:\n",
        "    if i != '2':\n",
        "      print(i, x[cont])\n",
        "      cont+=1\n"
      ],
      "execution_count": null,
      "outputs": [
        {
          "output_type": "stream",
          "text": [
            "{'data': '2001-12-16', 'cliente': 'A11NCO6YTE4BTJ', 'rating': '5', 'votes': '5', 'helpful': '4'} {'media_evolucao': 5.0}\n",
            "{'data': '2002-1-7', 'cliente': 'A9CQ3PLRNIR83', 'rating': '4', 'votes': '5', 'helpful': '5'} {'media_evolucao': 4.5}\n",
            "{'data': '2002-1-24', 'cliente': 'A13SG9ACZ9O5IM', 'rating': '5', 'votes': '8', 'helpful': '8'} {'media_evolucao': 4.666666666666667}\n",
            "{'data': '2002-1-28', 'cliente': 'A1BDAI6VEYMAZA', 'rating': '5', 'votes': '4', 'helpful': '4'} {'media_evolucao': 4.75}\n",
            "{'data': '2002-2-6', 'cliente': 'A2P6KAWXJ16234', 'rating': '4', 'votes': '16', 'helpful': '16'} {'media_evolucao': 4.6}\n",
            "{'data': '2002-2-14', 'cliente': 'AMACWC3M7PQFR', 'rating': '4', 'votes': '5', 'helpful': '5'} {'media_evolucao': 4.5}\n",
            "{'data': '2002-3-23', 'cliente': 'A3GO7UV9XX14D8', 'rating': '4', 'votes': '6', 'helpful': '6'} {'media_evolucao': 4.428571428571429}\n",
            "{'data': '2002-5-23', 'cliente': 'A1GIL64QK68WKL', 'rating': '5', 'votes': '8', 'helpful': '8'} {'media_evolucao': 4.5}\n",
            "{'data': '2003-2-25', 'cliente': 'AEOBOF2ONQJWV', 'rating': '5', 'votes': '8', 'helpful': '5'} {'media_evolucao': 4.555555555555555}\n",
            "{'data': '2003-11-25', 'cliente': 'A3IGHTES8ME05L', 'rating': '5', 'votes': '5', 'helpful': '5'} {'media_evolucao': 4.6}\n",
            "{'data': '2004-2-11', 'cliente': 'A1CP26N8RHYVVO', 'rating': '1', 'votes': '13', 'helpful': '9'} {'media_evolucao': 4.2727272727272725}\n",
            "{'data': '2005-2-7', 'cliente': 'ANEIANH0WAT9D', 'rating': '5', 'votes': '1', 'helpful': '1'} {'media_evolucao': 4.333333333333333}\n"
          ],
          "name": "stdout"
        }
      ]
    },
    {
      "cell_type": "markdown",
      "metadata": {
        "id": "Hb0dB9z6Z5Hw"
      },
      "source": [
        "#4) Listar os 10 produtos líderes de venda em categoria"
      ]
    },
    {
      "cell_type": "code",
      "metadata": {
        "colab": {
          "base_uri": "https://localhost:8080/"
        },
        "id": "lpKPPdWerIUB",
        "outputId": "dea1bf87-cb25-45eb-e006-67c05d8f3c8c"
      },
      "source": [
        "p = products.find({'categories':{'$in': [\"Criminology[11005]\"]}}, {'_id': 0, 'id': 1, 'title':1, 'salesrank':1}).sort('salesrank',-1)[0:10]\n",
        "\n",
        "for i in list(p):\n",
        "  print(i)"
      ],
      "execution_count": null,
      "outputs": [
        {
          "output_type": "stream",
          "text": [
            "{'id': '517628', 'title': 'Prosecuting and Defending Health Care Fraud Cases', 'salesrank': '997450'}\n",
            "{'id': '217253', 'title': 'Mapping and Analysing Crime Data', 'salesrank': '996848'}\n",
            "{'id': '9374', 'title': 'With Liberty for Some: 500 Years of Imprisonment in America', 'salesrank': '995575'}\n",
            "{'id': '507767', 'title': 'Taking Back Our Lives : A Call to Action for the Feminist Movement', 'salesrank': '995027'}\n",
            "{'id': '295', 'title': 'Inventing Criminology: Essays on the Rise of Homo Criminalis (S U N Y Series in Deviance and Social Control)', 'salesrank': '994146'}\n",
            "{'id': '428346', 'title': 'Criminology at the Crossroads: Feminist Readings in Crime and Justice (Readings in Criminology and Criminal Justice)', 'salesrank': '991014'}\n",
            "{'id': '192060', 'title': 'Studying and Preventing Homicide : Issues and Challenges', 'salesrank': '990132'}\n",
            "{'id': '44812', 'title': \"The Pimp's Bible: The Sweet Science of Sin\", 'salesrank': '9890'}\n",
            "{'id': '54392', 'title': 'Violence and Psychopathy', 'salesrank': '986537'}\n",
            "{'id': '466985', 'title': 'Gangsters: Fifty Years of Madness, Drugs, and Death on the Streets of America', 'salesrank': '984798'}\n"
          ],
          "name": "stdout"
        }
      ]
    },
    {
      "cell_type": "markdown",
      "metadata": {
        "id": "b89oS5zfarcj"
      },
      "source": [
        "#5) Listar os 10 produtos com a maior média de ratings por grupo (Group) de produtos"
      ]
    },
    {
      "cell_type": "code",
      "metadata": {
        "colab": {
          "base_uri": "https://localhost:8080/"
        },
        "id": "Y-nNbOlYGbrl",
        "outputId": "e52277cb-36a5-4cf4-82a0-26f2e8c9d249"
      },
      "source": [
        "groups = products.distinct('group')\n",
        "\n",
        "for i in groups:\n",
        "  p = products.find({'group':i}, {'_id': 0, 'title': 1, 'group':1, 'avg_rating':1}).sort('avg_rating',-1)[0:10]\n",
        "  print(i)\n",
        "  for j in list(p):\n",
        "    print(j)"
      ],
      "execution_count": null,
      "outputs": [
        {
          "output_type": "stream",
          "text": [
            "Book\n",
            "{'title': 'Patterns of Preaching: A Sermon Sampler', 'group': 'Book', 'avg_rating': '5'}\n",
            "{'title': 'World War II Allied Fighter Planes Trading Cards', 'group': 'Book', 'avg_rating': '5'}\n",
            "{'title': 'Resetting the Clock : Five Anti-Aging Hormones That Improve and Extend Life', 'group': 'Book', 'avg_rating': '5'}\n",
            "{'title': 'Computed Tomography : Fundamentals, System Technology, Image Quality, Applications', 'group': 'Book', 'avg_rating': '5'}\n",
            "{'title': 'Backroad Buffets & Country Cafes: A Southern Guide to Meat-And-Threes & Down-Home Dining', 'group': 'Book', 'avg_rating': '5'}\n",
            "{'title': 'Double Jeopardy (T*Witches, 6)', 'group': 'Book', 'avg_rating': '5'}\n",
            "{'title': 'Renovations: A Father and Son Rebuild a House and Rediscover Each Other', 'group': 'Book', 'avg_rating': '5'}\n",
            "{'title': 'How to Kill a Monster (Goosebumps)', 'group': 'Book', 'avg_rating': '5'}\n",
            "{'title': 'Baby Boomer Retirement: 65 Simple Ways to Protect Your Future', 'group': 'Book', 'avg_rating': '5'}\n",
            "{'title': 'Betsy & Tacy Go over the Big Hill (Betsy and Tacy Books)', 'group': 'Book', 'avg_rating': '5'}\n",
            "Music\n",
            "{'title': 'Sol to Soul', 'group': 'Music', 'avg_rating': '5'}\n",
            "{'title': 'Still Life', 'group': 'Music', 'avg_rating': '5'}\n",
            "{'title': 'What\\'s on Your Mind (Pure Energy) [Tommy Boy CD5/12\")', 'group': 'Music', 'avg_rating': '5'}\n",
            "{'title': 'Lush Mechanique', 'group': 'Music', 'avg_rating': '5'}\n",
            "{'title': 'Johnny Bush - 14 Greatest Hits', 'group': 'Music', 'avg_rating': '5'}\n",
            "{'title': 'One More Night', 'group': 'Music', 'avg_rating': '5'}\n",
            "{'title': 'Riddle', 'group': 'Music', 'avg_rating': '5'}\n",
            "{'title': \"Singin' Some Soul\", 'group': 'Music', 'avg_rating': '5'}\n",
            "{'title': 'Roadside (2001 Off-Broadway Cast)', 'group': 'Music', 'avg_rating': '5'}\n",
            "{'title': 'Motown Party', 'group': 'Music', 'avg_rating': '5'}\n",
            "DVD\n",
            "{'title': \"Avengers '67 - Set 1, Vols. 1 & 2\", 'group': 'DVD', 'avg_rating': '5'}\n",
            "{'title': 'DC Talk: Free at Last - The Movie', 'group': 'DVD', 'avg_rating': '5'}\n",
            "{'title': 'Anne-Sophie Mutter - A Life with Beethoven', 'group': 'DVD', 'avg_rating': '5'}\n",
            "{'title': 'Cowboy Bebop - Session 2', 'group': 'DVD', 'avg_rating': '5'}\n",
            "{'title': 'The Adventures of Sherlock Holmes,  Vol. 4 (The Greek Interpreter / The Norwood Builder)', 'group': 'DVD', 'avg_rating': '5'}\n",
            "{'title': 'Richard Strauss - Concerto for Horn', 'group': 'DVD', 'avg_rating': '5'}\n",
            "{'title': 'I Love Lucy - Season One (Vol. 3)', 'group': 'DVD', 'avg_rating': '5'}\n",
            "{'title': 'Weird Al Yankovic - Live', 'group': 'DVD', 'avg_rating': '5'}\n",
            "{'title': 'The Blonde', 'group': 'DVD', 'avg_rating': '5'}\n",
            "{'title': 'Business is Business', 'group': 'DVD', 'avg_rating': '5'}\n",
            "Video\n",
            "{'title': 'Jonny Quest - Bandit in Adventures Best Friend', 'group': 'Video', 'avg_rating': '5'}\n",
            "{'title': 'Barney: Sing and Dance with Barney', 'group': 'Video', 'avg_rating': '5'}\n",
            "{'title': 'Bob Newhart - Button Down Concert - Off the Record', 'group': 'Video', 'avg_rating': '5'}\n",
            "{'title': 'The Glass Menagerie', 'group': 'Video', 'avg_rating': '5'}\n",
            "{'title': \"National Geographic's Land of the Anaconda\", 'group': 'Video', 'avg_rating': '5'}\n",
            "{'title': 'Wow Gospel 1999', 'group': 'Video', 'avg_rating': '5'}\n",
            "{'title': \"It's Arbor Day, Charlie Brown\", 'group': 'Video', 'avg_rating': '5'}\n",
            "{'title': 'The Sweetest Gift', 'group': 'Video', 'avg_rating': '5'}\n",
            "{'title': 'The Best of The Simpsons, Boxed Set 3', 'group': 'Video', 'avg_rating': '5'}\n",
            "{'title': \"Dixie Carter's Unworkout\", 'group': 'Video', 'avg_rating': '5'}\n",
            "Toy\n",
            "{'title': 'Party Tyme Karaoke CD Kids Songs', 'group': 'Toy', 'avg_rating': '5'}\n",
            "{'title': 'IlluStory Book Kit', 'group': 'Toy', 'avg_rating': '5'}\n",
            "{'title': 'Photostory Junior Book Kit', 'group': 'Toy', 'avg_rating': '5'}\n",
            "{'title': 'Wizard Card Game Deluxe', 'group': 'Toy', 'avg_rating': '5'}\n",
            "{'title': 'Party Tyme Karaoke CD Oldies', 'group': 'Toy', 'avg_rating': '4'}\n",
            "{'title': 'Party Tyme Karaoke CD: V2 Super Hits', 'group': 'Toy', 'avg_rating': '3.5'}\n",
            "{'title': 'The Songs of Britney Spears & Christina Aguilera', 'group': 'Toy', 'avg_rating': '3'}\n",
            "{'title': 'R- Photostory Senior', 'group': 'Toy', 'avg_rating': '0'}\n",
            "Video Games\n",
            "{'title': 'PRIMA PUBLISHING Dark Cloud 2 Official Strategy Guide', 'group': 'Video Games', 'avg_rating': '2.5'}\n",
            "Software\n",
            "{'title': 'RINGDISC Wagner: The Ring Disc', 'group': 'Software', 'avg_rating': '5'}\n",
            "{'title': 'ClickArt Christian Publishing Suite 3', 'group': 'Software', 'avg_rating': '5'}\n",
            "{'title': 'Just Enough Vocals The Learning Co', 'group': 'Software', 'avg_rating': '5'}\n",
            "{'title': 'WINDOWS NT SERVER V4.0 RESOURCE', 'group': 'Software', 'avg_rating': '4'}\n",
            "{'title': \"Zondervan Bible Study Library: Leader's Edition 5.0\", 'group': 'Software', 'avg_rating': '3.5'}\n",
            "Baby Product\n",
            "{'title': \"Baby'S Record Keeper And Memory Box\", 'group': 'Baby Product', 'avg_rating': '4.5'}\n",
            "CE\n",
            "{'title': 'Hal Leonard Beginning Bass Guitar 1, Instructional Video, 30 Minutes', 'group': 'CE', 'avg_rating': '4'}\n",
            "{'title': 'FRANKLIN COMP. KJB-1440 Electronic Holy Bible (King James Version)', 'group': 'CE', 'avg_rating': '3'}\n",
            "{'title': 'SPELLING CORRECTOR', 'group': 'CE', 'avg_rating': '0'}\n",
            "{'title': 'Hal Leonard Beginning Guitar 1, Instructional Video, 30 Minutes', 'group': 'CE', 'avg_rating': '0'}\n",
            "Sports\n",
            "{'title': 'Yoga Kit Living Arts', 'group': 'Sports', 'avg_rating': '4'}\n"
          ],
          "name": "stdout"
        }
      ]
    },
    {
      "cell_type": "markdown",
      "metadata": {
        "id": "aKCjUR7YawSl"
      },
      "source": [
        "#6) Listar a 5 categorias de produto com a maior média geral de ratings "
      ]
    },
    {
      "cell_type": "code",
      "metadata": {
        "colab": {
          "base_uri": "https://localhost:8080/"
        },
        "id": "MvYHLwnjJm8y",
        "outputId": "89443b8b-074a-4b7d-bd5b-d9ab91126860"
      },
      "source": [
        "p = products.find({'avg_rating':'5'}, {'_id': 0,  'categories':1, 'avg_rating':1}).sort('avg_rating',-1)[0:5]\n",
        "\n",
        "p = list(p)\n",
        "\n",
        "for i in p:\n",
        "  print(i)\n"
      ],
      "execution_count": null,
      "outputs": [
        {
          "output_type": "stream",
          "text": [
            "{'categories': ['Preaching[12368]', 'Sermons[12370]'], 'avg_rating': '5'}\n",
            "{'categories': ['General[5144]'], 'avg_rating': '5'}\n",
            "{'categories': ['General[4701]', 'General[14046]', 'General[227584]', 'jp-unknown2[1061350]'], 'avg_rating': '5'}\n",
            "{'categories': ['General[63926]'], 'avg_rating': '5'}\n",
            "{'categories': ['General[14407]', 'General[227709]', 'General[657762]'], 'avg_rating': '5'}\n"
          ],
          "name": "stdout"
        }
      ]
    },
    {
      "cell_type": "markdown",
      "metadata": {
        "id": "2oTz8ybGa1R5"
      },
      "source": [
        "#7) Listar os 10 clientes que mais fizeram comentários por grupo (Group) de produto"
      ]
    },
    {
      "cell_type": "code",
      "metadata": {
        "colab": {
          "base_uri": "https://localhost:8080/"
        },
        "id": "Tre70mggJwZw",
        "outputId": "b1706f32-e111-4e3e-93ee-366587773f3e"
      },
      "source": [
        "groups = products.distinct('group')\n",
        "\n",
        "for i in groups:\n",
        "  p = products.find({'group':i}, {'_id': 0, 'group': 1, 'reviews':1})\n",
        "  \n",
        "  vet = {}\n",
        "\n",
        "  for product in p:\n",
        "    for r in product['reviews']:\n",
        "      if r['cliente'] in vet:\n",
        "        vet[r['cliente']] = vet[r['cliente']] + 1\n",
        "      else:\n",
        "        vet[r['cliente']] = 1\n",
        "  print(i)\n",
        "  x = sorted(vet.items(), key=lambda x: x[1], reverse=True)[0:10]\n",
        "  for j in x:\n",
        "    print(j)\n"
      ],
      "execution_count": null,
      "outputs": [
        {
          "output_type": "stream",
          "text": [
            "Book\n",
            "('ATVPDKIKX0DER', 643185)\n",
            "('A3UN6WX5RRO2AG', 154531)\n",
            "('A14OJS0VWMOSWO', 9589)\n",
            "('AFVQZQ8PW0L', 5441)\n",
            "('A1K1JW1C5CUSUZ', 3562)\n",
            "('A2NJO6YE954DBH', 2055)\n",
            "('A3QVAKVRAH657N', 1651)\n",
            "('A1NATT3PN24QWY', 1535)\n",
            "('A1D2C0WDCSHUWZ', 1508)\n",
            "('A2ODBHT4URXVXQ', 1469)\n",
            "Music\n",
            "('ATVPDKIKX0DER', 166149)\n",
            "('A3UN6WX5RRO2AG', 15875)\n",
            "('A9Q28YTLYREO7', 2760)\n",
            "('A2U49LUUY4IKQQ', 1258)\n",
            "('A1GN8UJIZLCA59', 1154)\n",
            "('A2NJO6YE954DBH', 1128)\n",
            "('A1J5KCZC8CMW9I', 1031)\n",
            "('A3MOF5KF93Q6WE', 989)\n",
            "('AXFI7TAWD6H6X', 814)\n",
            "('A38U2M9OAEJAXJ', 780)\n",
            "DVD\n",
            "('ATVPDKIKX0DER', 63148)\n",
            "('A3UN6WX5RRO2AG', 15549)\n",
            "('A2NJO6YE954DBH', 1366)\n",
            "('AU8552YCOO5QX', 1213)\n",
            "('A3P1A63Q8L32C5', 859)\n",
            "('A3LZGLA88K0LA0', 856)\n",
            "('A82LIVYSX6WZ9', 683)\n",
            "('A152C8GYY25HAH', 675)\n",
            "('A16CZRQL23NOIW', 651)\n",
            "('A1CZICCYP2M5PX', 650)\n",
            "Video\n",
            "('ATVPDKIKX0DER', 72581)\n",
            "('A3UN6WX5RRO2AG', 15814)\n",
            "('A2NJO6YE954DBH', 1775)\n",
            "('AU8552YCOO5QX', 1205)\n",
            "('A3P1A63Q8L32C5', 737)\n",
            "('A20EEWWSFMZ1PN', 720)\n",
            "('A16CZRQL23NOIW', 668)\n",
            "('A3LZGLA88K0LA0', 614)\n",
            "('A2QRB6L1MCJ53G', 606)\n",
            "('A152C8GYY25HAH', 583)\n",
            "Toy\n",
            "('ATVPDKIKX0DER', 2)\n",
            "('AH4M07U4YC695', 2)\n",
            "('A1SB7SB31ETYZH', 2)\n",
            "('AH16IHWEMA61J', 1)\n",
            "('A2U1T90IOVPBAR', 1)\n",
            "('A2YO9AKVAHDR9I', 1)\n",
            "('A1OSHA4U8RABFY', 1)\n",
            "('A2V5INJFFRP7Z8', 1)\n",
            "('A1FPVUL053AKXO', 1)\n",
            "('A1LEF9EM2DFDP2', 1)\n",
            "Video Games\n",
            "('A226EDS7WDF7S1', 1)\n",
            "('A1M4NJYP0WNL8Q', 1)\n",
            "('A3C811U31YG6FS', 1)\n",
            "Software\n",
            "('A37UFPGDSSMEV', 1)\n",
            "('A36NHJPD24UMGJ', 1)\n",
            "('A1EIVBXG3RD150', 1)\n",
            "('A23DFB8IUTIZM0', 1)\n",
            "('A36T3O4TIC1YDQ', 1)\n",
            "('A2I0ZWBVR0575O', 1)\n",
            "('A39UZ9VVRJW4P8', 1)\n",
            "('A1T6PXM2M3N84A', 1)\n",
            "('A3D5ICIQ8STPCH', 1)\n",
            "('A1F8RIBFWRYM3Y', 1)\n",
            "Baby Product\n",
            "('A2LAH8VX720175', 1)\n",
            "('AI9SB5VKUFXDC', 1)\n",
            "('A37TFIP0OMKGMW', 1)\n",
            "CE\n",
            "('A1J62O1S6QTHZJ', 1)\n",
            "('A1SFX3CR838F36', 1)\n",
            "('A13JU90C7AU3RT', 1)\n",
            "('A2IX9TMXDBUCYV', 1)\n",
            "('A1328SYT22GA4U', 1)\n",
            "Sports\n",
            "('A18ZVYTEDAOF9A', 1)\n",
            "('A2RHSQZ7MAKKCO', 1)\n",
            "('A1W180Y9O1FALI', 1)\n",
            "('AL62LOJKDES3M', 1)\n",
            "('A3O8EZOX2P399L', 1)\n"
          ],
          "name": "stdout"
        }
      ]
    },
    {
      "cell_type": "code",
      "metadata": {
        "id": "ALAMVWysVyzt"
      },
      "source": [
        ""
      ],
      "execution_count": null,
      "outputs": []
    }
  ]
}