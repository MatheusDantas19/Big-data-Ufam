{
  "nbformat": 4,
  "nbformat_minor": 0,
  "metadata": {
    "colab": {
      "name": "RedisDB.ipynb",
      "provenance": [],
      "collapsed_sections": []
    },
    "kernelspec": {
      "display_name": "Python 3",
      "name": "python3"
    },
    "language_info": {
      "name": "python"
    }
  },
  "cells": [
    {
      "cell_type": "code",
      "metadata": {
        "colab": {
          "base_uri": "https://localhost:8080/"
        },
        "id": "tcxGqQrhapA0",
        "outputId": "850ddce5-f417-43b9-cc68-2db1bb406861"
      },
      "source": [
        "# !apt install mongodb >log\n",
        "# !service mongodb start\n",
        "!pip install redis"
      ],
      "execution_count": null,
      "outputs": [
        {
          "output_type": "stream",
          "text": [
            "Collecting redis\n",
            "\u001b[?25l  Downloading https://files.pythonhosted.org/packages/a7/7c/24fb0511df653cf1a5d938d8f5d19802a88cef255706fdda242ff97e91b7/redis-3.5.3-py2.py3-none-any.whl (72kB)\n",
            "\r\u001b[K     |████▌                           | 10kB 14.9MB/s eta 0:00:01\r\u001b[K     |█████████                       | 20kB 20.2MB/s eta 0:00:01\r\u001b[K     |█████████████▋                  | 30kB 24.8MB/s eta 0:00:01\r\u001b[K     |██████████████████▏             | 40kB 26.9MB/s eta 0:00:01\r\u001b[K     |██████████████████████▊         | 51kB 9.1MB/s eta 0:00:01\r\u001b[K     |███████████████████████████▎    | 61kB 10.4MB/s eta 0:00:01\r\u001b[K     |███████████████████████████████▉| 71kB 9.0MB/s eta 0:00:01\r\u001b[K     |████████████████████████████████| 81kB 5.5MB/s \n",
            "\u001b[?25hInstalling collected packages: redis\n",
            "Successfully installed redis-3.5.3\n"
          ],
          "name": "stdout"
        }
      ]
    },
    {
      "cell_type": "code",
      "metadata": {
        "colab": {
          "base_uri": "https://localhost:8080/"
        },
        "id": "igzesdNnWBfW",
        "outputId": "e2c2d72b-967c-4462-b46a-5a29cd8eb4f1"
      },
      "source": [
        "!wget https://snap.stanford.edu/data/bigdata/amazon/amazon-meta.txt.gz\n",
        "!gunzip amazon-meta.txt.gz"
      ],
      "execution_count": null,
      "outputs": [
        {
          "output_type": "stream",
          "text": [
            "--2021-06-30 23:58:29--  https://snap.stanford.edu/data/bigdata/amazon/amazon-meta.txt.gz\n",
            "Resolving snap.stanford.edu (snap.stanford.edu)... 171.64.75.80\n",
            "Connecting to snap.stanford.edu (snap.stanford.edu)|171.64.75.80|:443... connected.\n",
            "HTTP request sent, awaiting response... 200 OK\n",
            "Length: 210807517 (201M) [application/x-gzip]\n",
            "Saving to: ‘amazon-meta.txt.gz’\n",
            "\n",
            "amazon-meta.txt.gz  100%[===================>] 201.04M  5.91MB/s    in 31s     \n",
            "\n",
            "2021-06-30 23:59:00 (6.46 MB/s) - ‘amazon-meta.txt.gz’ saved [210807517/210807517]\n",
            "\n"
          ],
          "name": "stdout"
        }
      ]
    },
    {
      "cell_type": "code",
      "metadata": {
        "id": "XbJTHhmGWUG9"
      },
      "source": [
        "def limpeza(text): #Criando estrutura de dados para o arquivo da amazon\n",
        "  text = text.split('\\n')\n",
        "  # print(text)\n",
        "  flag = 0\n",
        "  vet = {}\n",
        "  for words in text:\n",
        "    # print(words)\n",
        "    #words = words.rstrip()\n",
        "\n",
        "    if words.startswith('Id:'):\n",
        "      vet['id'] = words.split()[1].strip()\n",
        "\n",
        "    elif words.startswith('ASIN:'):\n",
        "      vet['asin'] = words.split('ASIN:')[1].strip()\n",
        "        \n",
        "    elif words.startswith('  title:'):\n",
        "      vet['title'] = words.split('title: ')[1].strip()\n",
        "\n",
        "    elif words.startswith('  group:'):\n",
        "      vet['group'] = words.split('group:')[1].strip()\n",
        "\n",
        "    elif words.startswith('  salesrank:'):\n",
        "      vet['salesrank'] = words.split('salesrank:')[1].strip()\n",
        "\n",
        "    elif words.startswith('  similar:'):\n",
        "      if words.strip()[9] != 0:\n",
        "        vet['similar'] = words.split()[2:]\n",
        "      \n",
        "    elif words.startswith('  categories:'):\n",
        "      vet['categories'] = []\n",
        "\n",
        "    elif words.startswith('   |'):\n",
        "      categories = words.split('|')\n",
        "      if len(categories) == 1:\n",
        "          pass\n",
        "      else:\n",
        "          vet['categories'].append(categories[len(categories)-1])\n",
        "\n",
        "    elif words.startswith('  reviews:'):\n",
        "      vet['avg_rating'] =  words.split(': ')[4]\n",
        "      vet['reviews'] = []\n",
        "\n",
        "    elif words.startswith('    2') or words.startswith('    1'):\n",
        "      aux = words.split()\n",
        "      vet['reviews'].append({'data':aux[0], 'cliente':aux[2], \n",
        "                             'rating':aux[4], 'votes':aux[6], 'helpful':aux[8]})\n",
        "  #print(vet)      \n",
        "  return vet\n",
        "\n",
        "def delimited(file, delimiter, bufsize=4096):\n",
        "  buf = ''\n",
        "  while True:\n",
        "    newbuf = file.read(bufsize)\n",
        "    if not newbuf:\n",
        "      yield buf\n",
        "      return\n",
        "    buf += newbuf\n",
        "    lines = buf.split(delimiter)\n",
        "    for line in lines[:-1]:\n",
        "      yield line\n",
        "    buf = lines[-1]\n"
      ],
      "execution_count": null,
      "outputs": []
    },
    {
      "cell_type": "code",
      "metadata": {
        "colab": {
          "base_uri": "https://localhost:8080/"
        },
        "id": "dRNP7YcHa7ky",
        "outputId": "eb4bf56f-c021-45cf-8ab9-72f1ef274b43"
      },
      "source": [
        "!sudo apt-get -qq update\n",
        "!sudo apt-get -qq -y install redis-server\n",
        "!pip install redis\n",
        "!redis-server --daemonize yes\n",
        "!ps aux | grep redis-server\n",
        "!pip install simplejson\n",
        "\n",
        "import redis\n",
        "import json\n",
        "\n",
        "r = redis.Redis(host='localhost', port=6379, db=0)\n"
      ],
      "execution_count": null,
      "outputs": [
        {
          "output_type": "stream",
          "text": [
            "debconf: unable to initialize frontend: Dialog\n",
            "debconf: (No usable dialog-like program is installed, so the dialog based frontend cannot be used. at /usr/share/perl5/Debconf/FrontEnd/Dialog.pm line 76, <> line 3.)\n",
            "debconf: falling back to frontend: Readline\n",
            "debconf: unable to initialize frontend: Readline\n",
            "debconf: (This frontend requires a controlling tty.)\n",
            "debconf: falling back to frontend: Teletype\n",
            "dpkg-preconfigure: unable to re-open stdin: \n",
            "Selecting previously unselected package libjemalloc1.\n",
            "(Reading database ... 160772 files and directories currently installed.)\n",
            "Preparing to unpack .../libjemalloc1_3.6.0-11_amd64.deb ...\n",
            "Unpacking libjemalloc1 (3.6.0-11) ...\n",
            "Selecting previously unselected package redis-tools.\n",
            "Preparing to unpack .../redis-tools_5%3a4.0.9-1ubuntu0.2_amd64.deb ...\n",
            "Unpacking redis-tools (5:4.0.9-1ubuntu0.2) ...\n",
            "Selecting previously unselected package redis-server.\n",
            "Preparing to unpack .../redis-server_5%3a4.0.9-1ubuntu0.2_amd64.deb ...\n",
            "Unpacking redis-server (5:4.0.9-1ubuntu0.2) ...\n",
            "Setting up libjemalloc1 (3.6.0-11) ...\n",
            "Setting up redis-tools (5:4.0.9-1ubuntu0.2) ...\n",
            "Setting up redis-server (5:4.0.9-1ubuntu0.2) ...\n",
            "invoke-rc.d: could not determine current runlevel\n",
            "invoke-rc.d: policy-rc.d denied execution of start.\n",
            "Created symlink /etc/systemd/system/redis.service → /lib/systemd/system/redis-server.service.\n",
            "Created symlink /etc/systemd/system/multi-user.target.wants/redis-server.service → /lib/systemd/system/redis-server.service.\n",
            "Processing triggers for systemd (237-3ubuntu10.47) ...\n",
            "Processing triggers for man-db (2.8.3-2ubuntu0.1) ...\n",
            "Processing triggers for libc-bin (2.27-3ubuntu1.2) ...\n",
            "/sbin/ldconfig.real: /usr/local/lib/python3.7/dist-packages/ideep4py/lib/libmkldnn.so.0 is not a symbolic link\n",
            "\n",
            "Requirement already satisfied: redis in /usr/local/lib/python3.7/dist-packages (3.5.3)\n",
            "1276:C 30 Jun 23:59:31.075 # oO0OoO0OoO0Oo Redis is starting oO0OoO0OoO0Oo\n",
            "1276:C 30 Jun 23:59:31.075 # Redis version=4.0.9, bits=64, commit=00000000, modified=0, pid=1276, just started\n",
            "1276:C 30 Jun 23:59:31.075 # Configuration loaded\n",
            "root        1277  0.0  0.0  68944  5328 ?        Ssl  23:59   0:00 redis-server *:6379\n",
            "root        1281  0.0  0.0  39196  6500 ?        S    23:59   0:00 /bin/bash -c ps aux | grep redis-server\n",
            "root        1283  0.0  0.0  38572  5500 ?        S    23:59   0:00 grep redis-server\n",
            "Collecting simplejson\n",
            "\u001b[?25l  Downloading https://files.pythonhosted.org/packages/a8/04/377418ac1e530ce2a196b54c6552c018fdf1fe776718053efb1f216bffcd/simplejson-3.17.2-cp37-cp37m-manylinux2010_x86_64.whl (128kB)\n",
            "\u001b[K     |████████████████████████████████| 133kB 9.6MB/s \n",
            "\u001b[?25hInstalling collected packages: simplejson\n",
            "Successfully installed simplejson-3.17.2\n"
          ],
          "name": "stdout"
        }
      ]
    },
    {
      "cell_type": "code",
      "metadata": {
        "id": "mbYB8yhPcwU4"
      },
      "source": [
        "data = list(delimited(open('amazon-meta.txt', 'r'), '\\n\\n'))"
      ],
      "execution_count": null,
      "outputs": []
    },
    {
      "cell_type": "code",
      "metadata": {
        "id": "Ze3sk8FVWi5W"
      },
      "source": [
        "#Limpeza dos dados \n",
        "cont = 0\n",
        "vetor = []\n",
        "for produto in data:\n",
        "  if (not produto.startswith('#') and not produto == 'Total'):\n",
        "    x = limpeza(produto)\n",
        "    vetor.append(x)\n"
      ],
      "execution_count": null,
      "outputs": []
    },
    {
      "cell_type": "markdown",
      "metadata": {
        "id": "Z1v2qyWDZGx_"
      },
      "source": [
        ""
      ]
    },
    {
      "cell_type": "code",
      "metadata": {
        "colab": {
          "base_uri": "https://localhost:8080/"
        },
        "id": "RnBJOJaxWkSt",
        "outputId": "9ebcd998-f3fa-4a58-94eb-849b627d9fcb"
      },
      "source": [
        "#Inserindo dentro do banco de dados\n",
        "cont = 0\n",
        "for i in vetor:\n",
        "  cont+=1\n",
        "  if cont > 1:\n",
        "    # print(i[])\n",
        "    try:\n",
        "      r.set(i['asin'],json.dumps(i))\n",
        "    except:\n",
        "      print(i)\n",
        "   # products.insert_one(i)\n",
        "# vetor[1]"
      ],
      "execution_count": null,
      "outputs": [
        {
          "output_type": "stream",
          "text": [
            "{}\n"
          ],
          "name": "stdout"
        }
      ]
    },
    {
      "cell_type": "code",
      "metadata": {
        "colab": {
          "base_uri": "https://localhost:8080/"
        },
        "id": "LgyY0FIWc6SY",
        "outputId": "eaed050f-be37-43a2-9d07-8b9349fc50e7"
      },
      "source": [
        "r.get('0738700797')"
      ],
      "execution_count": null,
      "outputs": [
        {
          "output_type": "execute_result",
          "data": {
            "text/plain": [
              "b'{\"id\": \"2\", \"asin\": \"0738700797\", \"title\": \"Candlemas: Feast of Flames\", \"group\": \"Book\", \"salesrank\": \"168596\", \"similar\": [\"0738700827\", \"1567184960\", \"1567182836\", \"0738700525\", \"0738700940\"], \"categories\": [\"Wicca[12484]\", \"Witchcraft[12486]\"], \"avg_rating\": \"4.5\", \"reviews\": [{\"data\": \"2001-12-16\", \"cliente\": \"A11NCO6YTE4BTJ\", \"rating\": \"5\", \"votes\": \"5\", \"helpful\": \"4\"}, {\"data\": \"2002-1-7\", \"cliente\": \"A9CQ3PLRNIR83\", \"rating\": \"4\", \"votes\": \"5\", \"helpful\": \"5\"}, {\"data\": \"2002-1-24\", \"cliente\": \"A13SG9ACZ9O5IM\", \"rating\": \"5\", \"votes\": \"8\", \"helpful\": \"8\"}, {\"data\": \"2002-1-28\", \"cliente\": \"A1BDAI6VEYMAZA\", \"rating\": \"5\", \"votes\": \"4\", \"helpful\": \"4\"}, {\"data\": \"2002-2-6\", \"cliente\": \"A2P6KAWXJ16234\", \"rating\": \"4\", \"votes\": \"16\", \"helpful\": \"16\"}, {\"data\": \"2002-2-14\", \"cliente\": \"AMACWC3M7PQFR\", \"rating\": \"4\", \"votes\": \"5\", \"helpful\": \"5\"}, {\"data\": \"2002-3-23\", \"cliente\": \"A3GO7UV9XX14D8\", \"rating\": \"4\", \"votes\": \"6\", \"helpful\": \"6\"}, {\"data\": \"2002-5-23\", \"cliente\": \"A1GIL64QK68WKL\", \"rating\": \"5\", \"votes\": \"8\", \"helpful\": \"8\"}, {\"data\": \"2003-2-25\", \"cliente\": \"AEOBOF2ONQJWV\", \"rating\": \"5\", \"votes\": \"8\", \"helpful\": \"5\"}, {\"data\": \"2003-11-25\", \"cliente\": \"A3IGHTES8ME05L\", \"rating\": \"5\", \"votes\": \"5\", \"helpful\": \"5\"}, {\"data\": \"2004-2-11\", \"cliente\": \"A1CP26N8RHYVVO\", \"rating\": \"1\", \"votes\": \"13\", \"helpful\": \"9\"}, {\"data\": \"2005-2-7\", \"cliente\": \"ANEIANH0WAT9D\", \"rating\": \"5\", \"votes\": \"1\", \"helpful\": \"1\"}]}'"
            ]
          },
          "metadata": {
            "tags": []
          },
          "execution_count": 8
        }
      ]
    },
    {
      "cell_type": "markdown",
      "metadata": {
        "id": "PuF5H1GOZbxN"
      },
      "source": [
        "#1) Dado produto, listar os 5 comentários mais úteis e com maior avaliação e os 5 comentários mais úteis e com menor avaliação\n"
      ]
    },
    {
      "cell_type": "code",
      "metadata": {
        "colab": {
          "base_uri": "https://localhost:8080/"
        },
        "id": "iIlEHuqEXWG2",
        "outputId": "1b1b0c92-75be-420a-daab-4c49dea11a04"
      },
      "source": [
        "p = json.loads(r.get('0738700797'))\n",
        "\n",
        "v = sorted(p['reviews'], key=lambda x: (int(x['helpful']), int(x['rating'])),reverse=True)[0:5]\n",
        "v = sorted(v, key=lambda x: (x['rating']),reverse=True)\n",
        "\n",
        "print(\"5 comentários mais úteis ordenados pela maior avaliação\")\n",
        "for i in v:\n",
        "  print(i)\n",
        "\n",
        "print(\"\\n5 comentários mais úteis ordenados pela menor avaliação\")\n",
        "v = sorted(v, key=lambda x: (x['rating']))\n",
        "for i in v:\n",
        "  print(i)"
      ],
      "execution_count": null,
      "outputs": [
        {
          "output_type": "stream",
          "text": [
            "5 comentários mais úteis ordenados pela maior avaliação\n",
            "{'data': '2002-1-24', 'cliente': 'A13SG9ACZ9O5IM', 'rating': '5', 'votes': '8', 'helpful': '8'}\n",
            "{'data': '2002-5-23', 'cliente': 'A1GIL64QK68WKL', 'rating': '5', 'votes': '8', 'helpful': '8'}\n",
            "{'data': '2002-2-6', 'cliente': 'A2P6KAWXJ16234', 'rating': '4', 'votes': '16', 'helpful': '16'}\n",
            "{'data': '2002-3-23', 'cliente': 'A3GO7UV9XX14D8', 'rating': '4', 'votes': '6', 'helpful': '6'}\n",
            "{'data': '2004-2-11', 'cliente': 'A1CP26N8RHYVVO', 'rating': '1', 'votes': '13', 'helpful': '9'}\n",
            "\n",
            "5 comentários mais úteis ordenados pela menor avaliação\n",
            "{'data': '2004-2-11', 'cliente': 'A1CP26N8RHYVVO', 'rating': '1', 'votes': '13', 'helpful': '9'}\n",
            "{'data': '2002-2-6', 'cliente': 'A2P6KAWXJ16234', 'rating': '4', 'votes': '16', 'helpful': '16'}\n",
            "{'data': '2002-3-23', 'cliente': 'A3GO7UV9XX14D8', 'rating': '4', 'votes': '6', 'helpful': '6'}\n",
            "{'data': '2002-1-24', 'cliente': 'A13SG9ACZ9O5IM', 'rating': '5', 'votes': '8', 'helpful': '8'}\n",
            "{'data': '2002-5-23', 'cliente': 'A1GIL64QK68WKL', 'rating': '5', 'votes': '8', 'helpful': '8'}\n"
          ],
          "name": "stdout"
        }
      ]
    },
    {
      "cell_type": "markdown",
      "metadata": {
        "id": "NU22MFilZt2_"
      },
      "source": [
        "#2) Dado um produto, listar os produtos similares com maiores vendas do que ele"
      ]
    },
    {
      "cell_type": "code",
      "metadata": {
        "colab": {
          "base_uri": "https://localhost:8080/"
        },
        "id": "foe_okzhmyvj",
        "outputId": "7225e432-4e62-4694-d650-ec373032d713"
      },
      "source": [
        "produto = json.loads(r.get('0738700797'))\n",
        "similares = produto['similar']\n",
        "\n",
        "def clean(p):\n",
        "  p.pop('similar', None)\n",
        "  p.pop('categories', None)\n",
        "  p.pop('reviews', None)\n",
        "  p.pop('group', None)\n",
        "  p.pop('avg_rating', None)\n",
        "\n",
        "for i in similares:\n",
        "  p_similar = json.loads(r.get(i))\n",
        " \n",
        "  if int(produto['salesrank']) < int(p_similar['salesrank']):\n",
        "    clean(p_similar)\n",
        "    print(p_similar)\n"
      ],
      "execution_count": null,
      "outputs": [
        {
          "output_type": "stream",
          "text": [
            "{'id': '454888', 'asin': '0738700827', 'title': 'Ostara: Customs, Spells & Rituals for the Rites of Spring', 'salesrank': '311254'}\n",
            "{'id': '411179', 'asin': '1567182836', 'title': 'Beltane: Springtime Rituals, Lore and Celebration', 'salesrank': '280541'}\n"
          ],
          "name": "stdout"
        }
      ]
    },
    {
      "cell_type": "markdown",
      "metadata": {
        "id": "OIxOlCaBZyDu"
      },
      "source": [
        "#3) Dado um produto, mostrar a evolução diária das médias de avaliação ao longo do intervalo de tempo coberto no arquivo de entrada"
      ]
    },
    {
      "cell_type": "code",
      "metadata": {
        "colab": {
          "base_uri": "https://localhost:8080/"
        },
        "id": "VD0QcumfnlRz",
        "outputId": "d054417d-ba9a-4953-c8f5-54f5a6e84105"
      },
      "source": [
        "def media(text): #media de diaas\n",
        "  vet = {'media':[]}\n",
        "  rate = []\n",
        "  cont = 1\n",
        "  for review in text['reviews']:\n",
        "    rate.append(float(review['rating']))\n",
        "    if cont == 1:\n",
        "      vet['media'].append({'media_evolucao': float(review['rating'])})       \n",
        "    else:\n",
        "      vet['media'].append({'media_evolucao': (sum(rate)) / cont}) \n",
        "\n",
        "    cont+=1\n",
        "  return vet['media']\n",
        "\n",
        "produto = json.loads(r.get('0738700797'))\n",
        "x = media(p)\n",
        "cont = 0\n",
        "\n",
        "\n",
        "for key, value in p.items():\n",
        "  #print(key,value)\n",
        "  if key == 'reviews':\n",
        "    for i in value:\n",
        "      print(i, x[cont])\n",
        "      cont+=1\n"
      ],
      "execution_count": null,
      "outputs": [
        {
          "output_type": "stream",
          "text": [
            "{'data': '2001-12-16', 'cliente': 'A11NCO6YTE4BTJ', 'rating': '5', 'votes': '5', 'helpful': '4'} {'media_evolucao': 5.0}\n",
            "{'data': '2002-1-7', 'cliente': 'A9CQ3PLRNIR83', 'rating': '4', 'votes': '5', 'helpful': '5'} {'media_evolucao': 4.5}\n",
            "{'data': '2002-1-24', 'cliente': 'A13SG9ACZ9O5IM', 'rating': '5', 'votes': '8', 'helpful': '8'} {'media_evolucao': 4.666666666666667}\n",
            "{'data': '2002-1-28', 'cliente': 'A1BDAI6VEYMAZA', 'rating': '5', 'votes': '4', 'helpful': '4'} {'media_evolucao': 4.75}\n",
            "{'data': '2002-2-6', 'cliente': 'A2P6KAWXJ16234', 'rating': '4', 'votes': '16', 'helpful': '16'} {'media_evolucao': 4.6}\n",
            "{'data': '2002-2-14', 'cliente': 'AMACWC3M7PQFR', 'rating': '4', 'votes': '5', 'helpful': '5'} {'media_evolucao': 4.5}\n",
            "{'data': '2002-3-23', 'cliente': 'A3GO7UV9XX14D8', 'rating': '4', 'votes': '6', 'helpful': '6'} {'media_evolucao': 4.428571428571429}\n",
            "{'data': '2002-5-23', 'cliente': 'A1GIL64QK68WKL', 'rating': '5', 'votes': '8', 'helpful': '8'} {'media_evolucao': 4.5}\n",
            "{'data': '2003-2-25', 'cliente': 'AEOBOF2ONQJWV', 'rating': '5', 'votes': '8', 'helpful': '5'} {'media_evolucao': 4.555555555555555}\n",
            "{'data': '2003-11-25', 'cliente': 'A3IGHTES8ME05L', 'rating': '5', 'votes': '5', 'helpful': '5'} {'media_evolucao': 4.6}\n",
            "{'data': '2004-2-11', 'cliente': 'A1CP26N8RHYVVO', 'rating': '1', 'votes': '13', 'helpful': '9'} {'media_evolucao': 4.2727272727272725}\n",
            "{'data': '2005-2-7', 'cliente': 'ANEIANH0WAT9D', 'rating': '5', 'votes': '1', 'helpful': '1'} {'media_evolucao': 4.333333333333333}\n"
          ],
          "name": "stdout"
        }
      ]
    },
    {
      "cell_type": "markdown",
      "metadata": {
        "id": "Hb0dB9z6Z5Hw"
      },
      "source": [
        "#4) Listar os 10 produtos líderes de venda em categoria"
      ]
    },
    {
      "cell_type": "code",
      "metadata": {
        "colab": {
          "base_uri": "https://localhost:8080/"
        },
        "id": "lpKPPdWerIUB",
        "outputId": "3b61beeb-935d-4c52-e4bf-66572721a74c"
      },
      "source": [
        "vet = []\n",
        "cursor = '0'\n",
        "while cursor != 0:\n",
        "  cursor, keys = r.scan(cursor=cursor, count=100)\n",
        "  for key in keys:\n",
        "    produto = json.loads(r.get(key))\n",
        "    try:\n",
        "      if \"Criminology[11005]\" in produto['categories']:\n",
        "        vet.append(produto)\n",
        "    except:\n",
        "      pass\n",
        "\n",
        "new = sorted(vet, key=lambda x : x['salesrank'], reverse=True)[0:20]\n",
        "\n",
        "def clean(p):\n",
        "  p.pop('similar', None)\n",
        "  p.pop('asin', None)\n",
        "  p.pop('reviews', None)\n",
        "  p.pop('group', None)\n",
        "  p.pop('avg_rating', None)\n",
        "  p.pop('categories', None)\n",
        "\n",
        "cont = 0\n",
        "for i in new:\n",
        "  if cont % 2 == 0:\n",
        "    clean(i)\n",
        "    print(i)\n",
        "  cont+=1"
      ],
      "execution_count": null,
      "outputs": [
        {
          "output_type": "stream",
          "text": [
            "{'id': '517628', 'title': 'Prosecuting and Defending Health Care Fraud Cases', 'salesrank': '997450'}\n",
            "{'id': '9374', 'title': 'With Liberty for Some: 500 Years of Imprisonment in America', 'salesrank': '995575'}\n",
            "{'id': '295', 'title': 'Inventing Criminology: Essays on the Rise of Homo Criminalis (S U N Y Series in Deviance and Social Control)', 'salesrank': '994146'}\n",
            "{'id': '192060', 'title': 'Studying and Preventing Homicide : Issues and Challenges', 'salesrank': '990132'}\n",
            "{'id': '54392', 'title': 'Violence and Psychopathy', 'salesrank': '986537'}\n",
            "{'id': '528480', 'title': 'Have a Seat, Please', 'salesrank': '984757'}\n",
            "{'id': '384723', 'title': \"Punishment and Democracy: 3 Strikes and You're Out in California (Studies in Crime and Public Policy                                         X)\", 'salesrank': '983569'}\n",
            "{'id': '531043', 'title': 'Sins of the City: The Real Los Angeles Noir', 'salesrank': '97707'}\n",
            "{'id': '315844', 'title': 'Gun Violence : The Real Costs', 'salesrank': '972863'}\n",
            "{'id': '86468', 'title': 'Lethal Passage : The Story of a Gun', 'salesrank': '96558'}\n"
          ],
          "name": "stdout"
        }
      ]
    },
    {
      "cell_type": "markdown",
      "metadata": {
        "id": "b89oS5zfarcj"
      },
      "source": [
        "#5) Listar os 10 produtos com a maior média de ratings por grupo (Group) de produtos"
      ]
    },
    {
      "cell_type": "code",
      "metadata": {
        "colab": {
          "base_uri": "https://localhost:8080/"
        },
        "id": "Y-nNbOlYGbrl",
        "outputId": "ce1b7d78-36f9-41d1-bd38-aff9c571afb9"
      },
      "source": [
        "#p = json.loads(r.get('2'))\n",
        "\n",
        "vet = []\n",
        "cursor = '0'\n",
        "while cursor != 0:\n",
        "  cursor, keys = r.scan(cursor=cursor, count=100)\n",
        "  for key in keys:\n",
        "    produto = json.loads(r.get(key))\n",
        "    try:\n",
        "      group = produto['group']\n",
        "      if group == 'Book':\n",
        "        vet.append(produto)\n",
        "    except:\n",
        "      pass\n",
        "\n",
        "new = sorted(vet, key=lambda x : x['avg_rating'], reverse=True)[0:10]\n",
        "\n",
        "def clean(p):\n",
        "  p.pop('similar', None)\n",
        "  p.pop('asin', None)\n",
        "  p.pop('reviews', None)\n",
        "  p.pop('group', None)\n",
        "  p.pop('avg_rating', None)\n",
        "  p.pop('categories', None)\n",
        "\n",
        "cont = 0\n",
        "for i in new:\n",
        "  print(i)\n",
        "  # if cont % 2 == 0:\n",
        "  #   clean(i)\n",
        "  #   print(i)\n",
        "  # cont+=1"
      ],
      "execution_count": null,
      "outputs": [
        {
          "output_type": "stream",
          "text": [
            "{'id': '417386', 'asin': '1580130119', 'title': 'The Colors of My Jewish Year', 'group': 'Book', 'salesrank': '632178', 'similar': ['158013047X', '1580130496'], 'categories': ['Judaism[3120]', 'Jewish Life[12563]'], 'avg_rating': '5', 'reviews': [{'data': '2001-1-30', 'cliente': 'A3QZCA4LTTVGAD', 'rating': '5', 'votes': '1', 'helpful': '1'}]}\n",
            "{'id': '445959', 'asin': '074603007X', 'title': 'First Thousand Words in French Sticker Book (Picture Word Books Series)', 'group': 'Book', 'salesrank': '434755', 'similar': ['0794502849', '0746027680', '0794502857', '0746037090', '0071421416'], 'categories': ['Vocabulary & Spelling[3187]'], 'avg_rating': '5', 'reviews': [{'data': '1999-11-28', 'cliente': 'A2DLJSJOHF1F3T', 'rating': '5', 'votes': '30', 'helpful': '30'}, {'data': '2001-7-25', 'cliente': 'A2LNC45164E5I8', 'rating': '5', 'votes': '13', 'helpful': '13'}, {'data': '2001-11-4', 'cliente': 'A2YW1TAPJLQ0ST', 'rating': '5', 'votes': '10', 'helpful': '10'}]}\n",
            "{'id': '525975', 'asin': '0962471658', 'title': 'Vibrational Healing Cards', 'group': 'Book', 'salesrank': '484695', 'similar': ['0972274707', '1879181738', '1401905668', '1401903010', '1401904599'], 'categories': ['General[12642]', 'General[12667]'], 'avg_rating': '5', 'reviews': [{'data': '2001-12-12', 'cliente': 'A3R2M6DGECQOO', 'rating': '5', 'votes': '15', 'helpful': '15'}]}\n",
            "{'id': '336151', 'asin': '0965435156', 'title': 'I Wish I Could Fly Like a Bird!', 'group': 'Book', 'salesrank': '472017', 'similar': ['0967376297', '0399231668', '0945354746', '1884281109', '0805065016'], 'categories': ['Fiction[3136]', 'General[170062]'], 'avg_rating': '5', 'reviews': [{'data': '1998-6-22', 'cliente': 'ATVPDKIKX0DER', 'rating': '5', 'votes': '5', 'helpful': '4'}, {'data': '2000-2-24', 'cliente': 'A1AW0J1H0VEVKH', 'rating': '5', 'votes': '3', 'helpful': '2'}, {'data': '2004-4-30', 'cliente': 'AJFJVV64Q655Q', 'rating': '5', 'votes': '0', 'helpful': '0'}]}\n",
            "{'id': '394573', 'asin': '0970433026', 'title': 'Who Will Be Left Behind and When?', 'group': 'Book', 'salesrank': '935068', 'similar': ['0785281673'], 'categories': ['Topical[12240]', 'Eschatology[172812]'], 'avg_rating': '5', 'reviews': [{'data': '2002-9-24', 'cliente': 'A1LVDDQBDI7X46', 'rating': '5', 'votes': '3', 'helpful': '3'}, {'data': '2002-9-25', 'cliente': 'AVMLWYC1JT9I5', 'rating': '5', 'votes': '1', 'helpful': '1'}, {'data': '2002-10-1', 'cliente': 'A3U1A6WAHYU0ZT', 'rating': '5', 'votes': '2', 'helpful': '2'}, {'data': '2002-10-12', 'cliente': 'A16DONYVFVGSSE', 'rating': '5', 'votes': '2', 'helpful': '2'}, {'data': '2002-10-12', 'cliente': 'A33TBHM3O9AY17', 'rating': '5', 'votes': '3', 'helpful': '3'}, {'data': '2002-10-23', 'cliente': 'AMX056MG14GZ', 'rating': '5', 'votes': '6', 'helpful': '6'}, {'data': '2002-12-20', 'cliente': 'AHRDKNUM947UQ', 'rating': '5', 'votes': '2', 'helpful': '2'}, {'data': '2003-5-8', 'cliente': 'A1P5CH6JQ7D9TI', 'rating': '5', 'votes': '0', 'helpful': '0'}]}\n",
            "{'id': '443282', 'asin': '1558684018', 'title': 'Culture Shock: Egypt (Culture Shock! Country Guides)', 'group': 'Book', 'salesrank': '325272', 'similar': ['1864501839', '1740594630', '0679767274', '1558686193', '1558686258'], 'categories': ['General[2566]', 'Culture Shock![17074]', 'General[17232]', 'General[67598]', 'General[639554]', 'Culture Shock![640136]', 'General[640508]', 'Secrets of Success[767772]'], 'avg_rating': '5', 'reviews': [{'data': '1999-7-21', 'cliente': 'A2IQDGRW6KS0J3', 'rating': '5', 'votes': '21', 'helpful': '21'}, {'data': '1999-12-18', 'cliente': 'A2NFSYM6NMJGHY', 'rating': '5', 'votes': '6', 'helpful': '2'}, {'data': '2000-6-21', 'cliente': 'A1V28AW70DHKZN', 'rating': '5', 'votes': '6', 'helpful': '6'}, {'data': '2000-7-23', 'cliente': 'AIV3PPZHFV4M6', 'rating': '5', 'votes': '13', 'helpful': '13'}, {'data': '2001-3-18', 'cliente': 'A3IXLB2D1QFAFU', 'rating': '5', 'votes': '7', 'helpful': '7'}, {'data': '2001-8-7', 'cliente': 'A2FV6AQIM17MIG', 'rating': '4', 'votes': '4', 'helpful': '4'}]}\n",
            "{'id': '53450', 'asin': '0152020357', 'title': 'Preschool to the Rescue', 'group': 'Book', 'salesrank': '315183', 'similar': ['0152163565', '0689801297', '078680534X', '006027980X', '0689852789'], 'categories': ['Action & Adventure[2967]', 'Humorous[3003]', 'Hillenbrand, Will[170699]', 'Fiction[886508]'], 'avg_rating': '5', 'reviews': [{'data': '2001-5-11', 'cliente': 'A2R054B7VKSP2F', 'rating': '5', 'votes': '5', 'helpful': '5'}, {'data': '2002-9-1', 'cliente': 'A2GX6XE9D1KZFO', 'rating': '5', 'votes': '2', 'helpful': '2'}, {'data': '2003-9-21', 'cliente': 'A2NFC2ARL50WBO', 'rating': '5', 'votes': '1', 'helpful': '1'}]}\n",
            "{'id': '20230', 'asin': '0940262908', 'title': 'Choices of Love', 'group': 'Book', 'salesrank': '514076', 'similar': ['0940262371', '0062505998', '0936878010', '1582701148'], 'categories': ['Authors[2330]', 'General[2375]', 'Mental & Spiritual Healing[12671]', 'Theosophy[12685]'], 'avg_rating': '5', 'reviews': [{'data': '1999-10-14', 'cliente': 'ATVPDKIKX0DER', 'rating': '5', 'votes': '5', 'helpful': '5'}, {'data': '1999-12-9', 'cliente': 'AEMOUX4OBGA1W', 'rating': '5', 'votes': '3', 'helpful': '3'}, {'data': '2002-7-19', 'cliente': 'A1I4LFJZWQQHFZ', 'rating': '5', 'votes': '5', 'helpful': '5'}, {'data': '2003-4-23', 'cliente': 'A1FP1BYG4FL7B7', 'rating': '5', 'votes': '0', 'helpful': '0'}]}\n",
            "{'id': '189776', 'asin': '0609801716', 'title': 'Moments of Grace : Meeting the Challenge to Change', 'group': 'Book', 'salesrank': '601561', 'similar': ['038548027X'], 'categories': ['Inspirational[12817]'], 'avg_rating': '5', 'reviews': [{'data': '1997-3-27', 'cliente': 'ATVPDKIKX0DER', 'rating': '5', 'votes': '8', 'helpful': '8'}]}\n",
            "{'id': '336289', 'asin': '0139271465', 'title': 'Career Development Interventions in the 21st Century', 'group': 'Book', 'salesrank': '124417', 'similar': ['0130395854', '1580081576', '0465084486', '0060938110', '047141980X'], 'categories': ['General[2577]', 'General[10635]', 'General[491360]', 'General[491576]', 'General[767808]', 'General[3048921]'], 'avg_rating': '5', 'reviews': [{'data': '2002-7-24', 'cliente': 'A122DFED9S8W2U', 'rating': '5', 'votes': '2', 'helpful': '2'}]}\n"
          ],
          "name": "stdout"
        }
      ]
    },
    {
      "cell_type": "markdown",
      "metadata": {
        "id": "aKCjUR7YawSl"
      },
      "source": [
        "#6) Listar a 5 categorias de produto com a maior média geral de ratings "
      ]
    },
    {
      "cell_type": "code",
      "metadata": {
        "colab": {
          "base_uri": "https://localhost:8080/"
        },
        "id": "MvYHLwnjJm8y",
        "outputId": "9c954e21-40ca-407d-d669-fa60fd2321da"
      },
      "source": [
        "def clean(p):\n",
        "  p.pop('similar', None)\n",
        "  p.pop('asin', None)\n",
        "  p.pop('reviews', None)\n",
        "  p.pop('group', None)\n",
        "  p.pop('title', None)\n",
        "  p.pop('id', None)\n",
        "  p.pop('salesrank', None)\n",
        "  return p\n",
        "\n",
        "vet = {}\n",
        "cursor = '0'\n",
        "cont = 0\n",
        "while cursor != 0:\n",
        "  cursor, keys = r.scan(cursor=cursor, count=100)\n",
        "  for key in keys:\n",
        "    produto = json.loads(r.get(key))\n",
        "    \n",
        "    try:\n",
        "      avg = produto['avg_rating']\n",
        "      if avg == '5':\n",
        "        #vet.append(produto)\n",
        "        produto = clean(produto)\n",
        "        print(produto)\n",
        "        cont+=1\n",
        "      if cont == 5:\n",
        "        break\n",
        "    except:\n",
        "      pass\n",
        "  if cont == 5:\n",
        "    break\n",
        "    \n",
        "\n",
        "    "
      ],
      "execution_count": null,
      "outputs": [
        {
          "output_type": "stream",
          "text": [
            "{'categories': ['Judaism[3120]', 'Jewish Life[12563]'], 'avg_rating': '5'}\n",
            "{'categories': ['Vocabulary & Spelling[3187]'], 'avg_rating': '5'}\n",
            "{'categories': ['General[67188]', 'CDs $7 - $10[519728]', 'CDs $7 - $10[661690]', 'CDs $7 - $10[735046]', 'All Bargain Titles[883658]', 'All Bargain Titles[884224]', 'All Bargain Titles[884974]'], 'avg_rating': '5'}\n",
            "{'categories': ['Pop Rock[284720]', 'Pop Rock[510558]', 'Pop Rock[520284]'], 'avg_rating': '5'}\n",
            "{'categories': ['General[12642]', 'General[12667]'], 'avg_rating': '5'}\n"
          ],
          "name": "stdout"
        }
      ]
    },
    {
      "cell_type": "markdown",
      "metadata": {
        "id": "2oTz8ybGa1R5"
      },
      "source": [
        "#7) Listar os 10 clientes que mais fizeram comentários por grupo (Group) de produto"
      ]
    },
    {
      "cell_type": "code",
      "metadata": {
        "id": "Tre70mggJwZw",
        "colab": {
          "base_uri": "https://localhost:8080/"
        },
        "outputId": "e7075229-44d4-4d3b-a77b-2e2fcf694fb7"
      },
      "source": [
        "group = 'Book'\n",
        "\n",
        "vet = {}\n",
        "\n",
        "cursor = '0'\n",
        "while cursor != 0:\n",
        "  cursor, keys = r.scan(cursor=cursor, count=100)\n",
        "  for key in keys:\n",
        "    produto = json.loads(r.get(key))\n",
        "    try:\n",
        "      if produto['group'] == group:\n",
        "        for cliente in produto['reviews']:\n",
        "          if cliente['cliente'] in vet:\n",
        "            vet[cliente['cliente']] = vet[cliente['cliente']] + 1\n",
        "          else:\n",
        "            vet[cliente['cliente']] = 1\n",
        "    except:\n",
        "      pass\n",
        "\n",
        "x = sorted(vet.items(), key=lambda x: x[1], reverse=True)[0:10]\n",
        "print(group)\n",
        "for j in x:\n",
        "  print(j)\n"
      ],
      "execution_count": null,
      "outputs": [
        {
          "output_type": "stream",
          "text": [
            "Book\n",
            "('ATVPDKIKX0DER', 643185)\n",
            "('A3UN6WX5RRO2AG', 154531)\n",
            "('A14OJS0VWMOSWO', 9589)\n",
            "('AFVQZQ8PW0L', 5441)\n",
            "('A1K1JW1C5CUSUZ', 3562)\n",
            "('A2NJO6YE954DBH', 2055)\n",
            "('A3QVAKVRAH657N', 1651)\n",
            "('A1NATT3PN24QWY', 1535)\n",
            "('A1D2C0WDCSHUWZ', 1508)\n",
            "('A2ODBHT4URXVXQ', 1469)\n"
          ],
          "name": "stdout"
        }
      ]
    },
    {
      "cell_type": "code",
      "metadata": {
        "id": "ALAMVWysVyzt"
      },
      "source": [
        ""
      ],
      "execution_count": null,
      "outputs": []
    }
  ]
}