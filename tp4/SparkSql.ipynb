{
  "nbformat": 4,
  "nbformat_minor": 0,
  "metadata": {
    "colab": {
      "name": "SparkSql.ipynb",
      "provenance": [],
      "collapsed_sections": []
    },
    "kernelspec": {
      "display_name": "Python 3",
      "name": "python3"
    },
    "language_info": {
      "name": "python"
    }
  },
  "cells": [
    {
      "cell_type": "markdown",
      "metadata": {
        "id": "pts5FH2ad_8R"
      },
      "source": [
        "#Baixando o Spark"
      ]
    },
    {
      "cell_type": "code",
      "metadata": {
        "id": "cctFPvQOQk7C"
      },
      "source": [
        "!wget -q https://archive.apache.org/dist/spark/spark-2.4.4/spark-2.4.4-bin-hadoop2.7.tgz\n",
        "!tar xf spark-2.4.4-bin-hadoop2.7.tgz\n",
        "!pip install -q findspark\n",
        "\n",
        "!rm -rf spark-2.4.4-bin-hadoop2.7.tgz"
      ],
      "execution_count": null,
      "outputs": []
    },
    {
      "cell_type": "markdown",
      "metadata": {
        "id": "bqGZddQaeEW5"
      },
      "source": [
        "#Baixando o java 8"
      ]
    },
    {
      "cell_type": "code",
      "metadata": {
        "colab": {
          "base_uri": "https://localhost:8080/"
        },
        "id": "i5RaTVAAxkIK",
        "outputId": "7d722069-663e-4587-a8f5-1f4689269d07"
      },
      "source": [
        "!apt update \n",
        "!apt-get install openjdk-8-jdk-headless -qq > /dev/null\n",
        "!update-alternatives --set java /usr/lib/jvm/java-8-openjdk-amd64/jre/bin/java"
      ],
      "execution_count": null,
      "outputs": [
        {
          "output_type": "stream",
          "text": [
            "\u001b[33m\r0% [Working]\u001b[0m\r            \rGet:1 http://security.ubuntu.com/ubuntu bionic-security InRelease [88.7 kB]\n",
            "\u001b[33m\r0% [Connecting to archive.ubuntu.com (91.189.88.142)] [1 InRelease 0 B/88.7 kB \u001b[0m\r                                                                               \rIgn:2 https://developer.download.nvidia.com/compute/cuda/repos/ubuntu1804/x86_64  InRelease\n",
            "\u001b[33m\r0% [Connecting to archive.ubuntu.com (91.189.88.142)] [1 InRelease 40.2 kB/88.7\u001b[0m\r                                                                               \rGet:3 https://cloud.r-project.org/bin/linux/ubuntu bionic-cran40/ InRelease [3,626 B]\n",
            "\u001b[33m\r0% [Waiting for headers] [1 InRelease 69.2 kB/88.7 kB 78%] [3 InRelease 0 B/3,6\u001b[0m\u001b[33m\r0% [Waiting for headers] [1 InRelease 88.7 kB/88.7 kB 100%] [Waiting for header\u001b[0m\u001b[33m\r                                                                               \r0% [Waiting for headers] [Waiting for headers] [Waiting for headers]\u001b[0m\u001b[33m\r0% [3 InRelease gpgv 3,626 B] [Waiting for headers] [Waiting for headers] [Wait\u001b[0m\r                                                                               \rIgn:4 https://developer.download.nvidia.com/compute/machine-learning/repos/ubuntu1804/x86_64  InRelease\n",
            "\u001b[33m\r                                                                               \r0% [3 InRelease gpgv 3,626 B] [Waiting for headers] [Waiting for headers]\u001b[0m\r                                                                         \rGet:5 https://developer.download.nvidia.com/compute/cuda/repos/ubuntu1804/x86_64  Release [697 B]\n",
            "\u001b[33m\r0% [3 InRelease gpgv 3,626 B] [Waiting for headers] [Waiting for headers]\u001b[0m\r                                                                         \rGet:6 http://ppa.launchpad.net/c2d4u.team/c2d4u4.0+/ubuntu bionic InRelease [15.9 kB]\n",
            "Hit:7 https://developer.download.nvidia.com/compute/machine-learning/repos/ubuntu1804/x86_64  Release\n",
            "Get:8 https://developer.download.nvidia.com/compute/cuda/repos/ubuntu1804/x86_64  Release.gpg [836 B]\n",
            "Hit:9 http://archive.ubuntu.com/ubuntu bionic InRelease\n",
            "Get:10 http://archive.ubuntu.com/ubuntu bionic-updates InRelease [88.7 kB]\n",
            "Hit:11 http://ppa.launchpad.net/cran/libgit2/ubuntu bionic InRelease\n",
            "Get:12 https://cloud.r-project.org/bin/linux/ubuntu bionic-cran40/ Packages [60.9 kB]\n",
            "Hit:13 http://ppa.launchpad.net/deadsnakes/ppa/ubuntu bionic InRelease\n",
            "Get:14 http://archive.ubuntu.com/ubuntu bionic-backports InRelease [74.6 kB]\n",
            "Get:15 http://security.ubuntu.com/ubuntu bionic-security/main amd64 Packages [2,152 kB]\n",
            "Get:16 http://ppa.launchpad.net/graphics-drivers/ppa/ubuntu bionic InRelease [21.3 kB]\n",
            "Get:17 http://security.ubuntu.com/ubuntu bionic-security/universe amd64 Packages [1,413 kB]\n",
            "Get:18 http://security.ubuntu.com/ubuntu bionic-security/restricted amd64 Packages [423 kB]\n",
            "Ign:20 https://developer.download.nvidia.com/compute/cuda/repos/ubuntu1804/x86_64  Packages\n",
            "Get:20 https://developer.download.nvidia.com/compute/cuda/repos/ubuntu1804/x86_64  Packages [798 kB]\n",
            "Get:21 http://ppa.launchpad.net/c2d4u.team/c2d4u4.0+/ubuntu bionic/main Sources [1,770 kB]\n",
            "Get:22 http://archive.ubuntu.com/ubuntu bionic-updates/main amd64 Packages [2,584 kB]\n",
            "Get:23 http://archive.ubuntu.com/ubuntu bionic-updates/restricted amd64 Packages [452 kB]\n",
            "Get:24 http://ppa.launchpad.net/c2d4u.team/c2d4u4.0+/ubuntu bionic/main amd64 Packages [906 kB]\n",
            "Get:25 http://archive.ubuntu.com/ubuntu bionic-updates/universe amd64 Packages [2,184 kB]\n",
            "Get:26 http://ppa.launchpad.net/graphics-drivers/ppa/ubuntu bionic/main amd64 Packages [41.5 kB]\n",
            "Fetched 13.1 MB in 4s (3,401 kB/s)\n",
            "Reading package lists... Done\n",
            "Building dependency tree       \n",
            "Reading state information... Done\n",
            "87 packages can be upgraded. Run 'apt list --upgradable' to see them.\n",
            "update-alternatives: using /usr/lib/jvm/java-8-openjdk-amd64/jre/bin/java to provide /usr/bin/java (java) in manual mode\n"
          ],
          "name": "stdout"
        }
      ]
    },
    {
      "cell_type": "markdown",
      "metadata": {
        "id": "GEBfztXleLrl"
      },
      "source": [
        "#Importando variáveis de ambiente"
      ]
    },
    {
      "cell_type": "code",
      "metadata": {
        "id": "5L68oPLfSE3S"
      },
      "source": [
        "import os\n",
        "os.environ[\"JAVA_HOME\"] = \"/usr/lib/jvm/java-8-openjdk-amd64/\"\n",
        "os.environ[\"SPARK_HOME\"] = \"/content/spark-2.4.4-bin-hadoop2.7\"\n",
        " \n",
        "# tornar o pyspark \"importável\"\n",
        "import findspark\n",
        "findspark.init('spark-2.4.4-bin-hadoop2.7')"
      ],
      "execution_count": null,
      "outputs": []
    },
    {
      "cell_type": "code",
      "metadata": {
        "id": "f7iXt9BwZm9D"
      },
      "source": [
        ""
      ],
      "execution_count": null,
      "outputs": []
    },
    {
      "cell_type": "markdown",
      "metadata": {
        "id": "vaAP-QSIfV_h"
      },
      "source": [
        "#Importando funções"
      ]
    },
    {
      "cell_type": "code",
      "metadata": {
        "id": "j633-ceCxgxB"
      },
      "source": [
        "def limpeza(text): #Criando estrutura de dados para o arquivo da amazon\n",
        "  text = text.split('\\r\\n')\n",
        "  flag = 0\n",
        "  vet = {}\n",
        "  for index,words in enumerate(text):\n",
        "\n",
        "    if words.startswith('Id:'):\n",
        "      vet['id'] = words.split()[1].strip()\n",
        "\n",
        "    elif words.startswith('ASIN:'):\n",
        "      vet['asin'] = words.split('ASIN:')[1].strip()\n",
        "        \n",
        "    elif words.startswith('  title:'):\n",
        "      vet['title'] = words.split('title: ')[1].strip()\n",
        "\n",
        "    elif words.startswith('  group:'):\n",
        "      vet['group'] = words.split('group:')[1].strip()\n",
        "\n",
        "    elif words.startswith('  salesrank:'):\n",
        "      vet['salesrank'] = words.split('salesrank:')[1].strip()\n",
        "\n",
        "    elif words.startswith('  similar:'):\n",
        "      if words.strip()[9] != 0:\n",
        "        vet['similar'] = words.split()[2:]\n",
        "      \n",
        "    elif words.startswith('  categories:'):\n",
        "      vet['categories'] = []\n",
        "\n",
        "    elif words.startswith('   |'):\n",
        "      categories = words.split('|')\n",
        "      if len(categories) == 1:\n",
        "          pass\n",
        "      else:\n",
        "          vet['categories'].append(categories[len(categories)-1])\n",
        "\n",
        "    elif words.startswith('  reviews:'):\n",
        "      vet['avg_rating'] =  words.split(': ')[4]\n",
        "      vet['reviews'] = []\n",
        "\n",
        "    elif words.startswith('    2') or words.startswith('    1'):\n",
        "      aux = words.split()\n",
        "      vet['reviews'].append({'data':aux[0], 'cliente':aux[2], \n",
        "                             'rating':aux[4], 'votes':aux[6], 'helpful':aux[8]})\n",
        "            \n",
        "  return vet\n",
        "\n",
        "def limpeza2(word): #remove o id[0]\n",
        "  if len(word) != 0 and len(word) > 2 :\n",
        "    return word\n",
        "\n",
        "def transformList(word): #transformar para lista para fazer melhor manipulações\n",
        "  lista = []\n",
        "  for i in word:\n",
        "    for j in i:\n",
        "      lista.append(j)\n",
        "\n",
        "  return lista\n",
        "\n",
        "def media(anterior, valor, tamanho): #media de diaas\n",
        "  vet = float(anterior) + (float(valor)-float(anterior))/float(tamanho)\n",
        "  return round(vet,5)\n",
        "\n",
        "def oi2(busca): #Seleciona dados com base group == group e media in lista_media[]\n",
        "  global filtrado\n",
        "  contador = 0\n",
        "  vet = {}\n",
        "  vet['result'] = []\n",
        "  for i in filtrado:\n",
        "    if i[0] == busca[1] and busca[2] in i[1]:\n",
        "      vet['result'].append({'title': busca[0], 'group': busca[1], 'avg':busca[2]}) \n",
        "      contador+=1\n",
        "\n",
        "  return vet\n",
        "\n"
      ],
      "execution_count": null,
      "outputs": []
    },
    {
      "cell_type": "markdown",
      "metadata": {
        "id": "IAW10iYgPfkH"
      },
      "source": [
        "#Importanto biblioteca e Escolhendo o Produto\n"
      ]
    },
    {
      "cell_type": "code",
      "metadata": {
        "id": "qxq33uEsPXBM"
      },
      "source": [
        "from pyspark import SparkConf, SparkContext, SparkFiles, SQLContext\n",
        "from pyspark.sql import SQLContext\n",
        "from pyspark.sql.functions import *\n",
        "\n",
        "import operator\n",
        "import re\n",
        "\n",
        "ID_PRODUTO = '2'\n",
        "\n",
        "conf = SparkConf().setMaster(\"local[*]\").setAppName(\"Spark\")\n",
        "sc = SparkContext.getOrCreate(conf=conf)\n",
        "\n",
        "sc._jsc.hadoopConfiguration().set(\"textinputformat.record.delimiter\", \"\\r\\n\\r\\n\")"
      ],
      "execution_count": null,
      "outputs": []
    },
    {
      "cell_type": "markdown",
      "metadata": {
        "id": "x0wsSL-LfneF"
      },
      "source": [
        "#Colocando o arquivo amazon-meta.txt no RDD"
      ]
    },
    {
      "cell_type": "code",
      "metadata": {
        "id": "_5qKZ-iraEvj"
      },
      "source": [
        "url = \"https://snap.stanford.edu/data/bigdata/amazon/amazon-meta.txt.gz\"\n",
        "\n",
        "sc.addFile(url)\n",
        "file_name = re.split(pattern='/', string=url)[-1]\n",
        "file_name = SparkFiles.get(file_name)\n",
        "text_file = sc.textFile(file_name)"
      ],
      "execution_count": null,
      "outputs": []
    },
    {
      "cell_type": "markdown",
      "metadata": {
        "id": "uk7YB0FxftAc"
      },
      "source": [
        "#Testando o arquivo no RDD"
      ]
    },
    {
      "cell_type": "code",
      "metadata": {
        "colab": {
          "base_uri": "https://localhost:8080/"
        },
        "id": "57jYlrAffyRJ",
        "outputId": "5cbc96f8-d901-4392-c4e9-c1f9abcfba6f"
      },
      "source": [
        "print(text_file.take(2))"
      ],
      "execution_count": null,
      "outputs": [
        {
          "output_type": "stream",
          "text": [
            "['# Full information about Amazon Share the Love products\\r\\nTotal items: 548552', 'Id:   0\\r\\nASIN: 0771044445\\r\\n  discontinued product']\n"
          ],
          "name": "stdout"
        }
      ]
    },
    {
      "cell_type": "code",
      "metadata": {
        "id": "JeOHrkThLJtj"
      },
      "source": [
        "import pyspark\n",
        "spark = pyspark.sql.SparkSession.builder \\\n",
        "            .master('local') \\\n",
        "            .appName('Spark') \\\n",
        "            .getOrCreate()"
      ],
      "execution_count": null,
      "outputs": []
    },
    {
      "cell_type": "markdown",
      "metadata": {
        "id": "Em6knSp3PYYw"
      },
      "source": [
        "#1) Dado produto, listar os 5 comentários mais úteis e com maior avaliação e os 5 comentários mais úteis e com menor avaliação\n"
      ]
    },
    {
      "cell_type": "code",
      "metadata": {
        "id": "rNlZMtBIqBEl"
      },
      "source": [
        "def produtos(word):\n",
        "  return (int(word['id']), word['asin'], word['title'], word['group'], int(word['salesrank']), float(word['avg_rating']))\n",
        "\n",
        "def similares(word):\n",
        "  vet = []\n",
        "  for i in word['similar']:\n",
        "    vet.append((int(word['id']), i))\n",
        "  \n",
        "  return vet\n",
        "\n",
        "def categorias(word):\n",
        "  vet = []\n",
        "  for i in word['categories']:\n",
        "    vet.append((int(word['id']), i))\n",
        "  \n",
        "  return vet\n",
        "\n",
        "def reviews(word):\n",
        "  vet = []\n",
        "  for i in word['reviews']:\n",
        "    vet.append((int(word['id']), i['data'], i['cliente'], float(i['rating']), int(i['votes']), int(i['helpful'])))\n",
        "  \n",
        "  return vet\n",
        "\n",
        "lines = text_file.map(limpeza).filter(limpeza2)\n",
        "\n",
        "produtos = lines.map(produtos)\n",
        "similares = lines.map(similares).flatMap(lambda x: x)\n",
        "categorias = lines.map(categorias).flatMap(lambda x: x)\n",
        "reviews = lines.map(reviews).flatMap(lambda x: x)\n",
        "\n",
        "\n",
        "produtosDF = produtos.toDF(['id_produto', 'asin', 'title', 'group', 'salesrank', 'avg_rating'])\n",
        "similaresDF = similares.toDF(['id_produto', 'similar'])\n",
        "categoriasDF = categorias.toDF(['id_produto', 'categoria'])\n",
        "reviewsDF = reviews.toDF(['id_produto', 'data', 'cliente', 'rating', 'votes', 'helpful'])\n",
        "\n",
        "\n",
        "produtosDF.createOrReplaceTempView(\"produtos\")\n",
        "similaresDF.createOrReplaceTempView(\"similares\")\n",
        "categoriasDF.createOrReplaceTempView(\"categorias\")\n",
        "reviewsDF.createOrReplaceTempView(\"reviews\")\n",
        "\n",
        "\n"
      ],
      "execution_count": null,
      "outputs": []
    },
    {
      "cell_type": "markdown",
      "metadata": {
        "id": "6C72XfEjehq_"
      },
      "source": [
        "#1) Dado produto, listar os 5 comentários mais úteis e com maior avaliação e os 5 comentários mais úteis e com menor avaliação\n"
      ]
    },
    {
      "cell_type": "code",
      "metadata": {
        "colab": {
          "base_uri": "https://localhost:8080/"
        },
        "id": "KCfb_GhaeiiR",
        "outputId": "a7e51a87-f59f-4791-b539-bb6248e3a1a7"
      },
      "source": [
        "id_produto = 2\n",
        "\n",
        "comentarios_mais_uteis = spark.sql(\n",
        "\"\"\"(SELECT * FROM reviews where id_produto = {}\n",
        "ORDER BY helpful DESC LIMIT 5) ORDER BY rating DESC\"\"\".format(id_produto))\n",
        "\n",
        "comentarios_mais_uteis.show()\n",
        "\n",
        "comentarios_menos_uteis = spark.sql(\n",
        "\"\"\"(SELECT * FROM reviews where id_produto = {} ORDER BY helpful \n",
        "DESC LIMIT 5) ORDER BY rating ASC\"\"\".format(id_produto))\n",
        "\n",
        "comentarios_menos_uteis.show()"
      ],
      "execution_count": null,
      "outputs": [
        {
          "output_type": "stream",
          "text": [
            "+----------+---------+--------------+------+-----+-------+\n",
            "|id_produto|     data|       cliente|rating|votes|helpful|\n",
            "+----------+---------+--------------+------+-----+-------+\n",
            "|         2|2002-1-24|A13SG9ACZ9O5IM|   5.0|    8|      8|\n",
            "|         2|2002-5-23|A1GIL64QK68WKL|   5.0|    8|      8|\n",
            "|         2| 2002-2-6|A2P6KAWXJ16234|   4.0|   16|     16|\n",
            "|         2|2002-3-23|A3GO7UV9XX14D8|   4.0|    6|      6|\n",
            "|         2|2004-2-11|A1CP26N8RHYVVO|   1.0|   13|      9|\n",
            "+----------+---------+--------------+------+-----+-------+\n",
            "\n",
            "+----------+---------+--------------+------+-----+-------+\n",
            "|id_produto|     data|       cliente|rating|votes|helpful|\n",
            "+----------+---------+--------------+------+-----+-------+\n",
            "|         2|2004-2-11|A1CP26N8RHYVVO|   1.0|   13|      9|\n",
            "|         2|2002-3-23|A3GO7UV9XX14D8|   4.0|    6|      6|\n",
            "|         2| 2002-2-6|A2P6KAWXJ16234|   4.0|   16|     16|\n",
            "|         2|2002-1-24|A13SG9ACZ9O5IM|   5.0|    8|      8|\n",
            "|         2|2002-5-23|A1GIL64QK68WKL|   5.0|    8|      8|\n",
            "+----------+---------+--------------+------+-----+-------+\n",
            "\n"
          ],
          "name": "stdout"
        }
      ]
    },
    {
      "cell_type": "markdown",
      "metadata": {
        "id": "8JDxD8-nPmlY"
      },
      "source": [
        "#2) Dado um produto, listar os produtos similares com maiores vendas do que ele\n"
      ]
    },
    {
      "cell_type": "code",
      "metadata": {
        "colab": {
          "base_uri": "https://localhost:8080/"
        },
        "id": "g4DZ4FQNbltX",
        "outputId": "b5762dbb-24dd-430c-9856-0e56dfe3beaa"
      },
      "source": [
        "id_produto = 2\n",
        "\n",
        "produtos_similares = spark.sql(\"\"\"SELECT * FROM produtos as p INNER JOIN \n",
        "similares as s ON p.asin = s.similar WHERE s.id_produto = {0} and p.salesrank > \n",
        "(SELECT salesrank FROM produtos WHERE id_produto = {0})\"\"\".format(id_produto)) \n",
        "\n",
        "produtos_similares.show()"
      ],
      "execution_count": null,
      "outputs": [
        {
          "output_type": "stream",
          "text": [
            "+----------+----------+--------------------+-----+---------+----------+----------+----------+\n",
            "|id_produto|      asin|               title|group|salesrank|avg_rating|id_produto|   similar|\n",
            "+----------+----------+--------------------+-----+---------+----------+----------+----------+\n",
            "|    411179|1567182836|Beltane: Springti...| Book|   280541|       3.5|         2|1567182836|\n",
            "|    454888|0738700827|Ostara: Customs, ...| Book|   311254|       4.0|         2|0738700827|\n",
            "+----------+----------+--------------------+-----+---------+----------+----------+----------+\n",
            "\n"
          ],
          "name": "stdout"
        }
      ]
    },
    {
      "cell_type": "markdown",
      "metadata": {
        "id": "KAf_rrr-PrD5"
      },
      "source": [
        "#3) Dado um produto, mostrar a evolução diária das médias de avaliação ao longo do intervalo de tempo coberto no arquivo de entrada"
      ]
    },
    {
      "cell_type": "code",
      "metadata": {
        "id": "YoEE8p9iqMsU",
        "colab": {
          "base_uri": "https://localhost:8080/"
        },
        "outputId": "11197c07-840e-4f6a-c6e9-374dad788e59"
      },
      "source": [
        "id_produto = 2\n",
        "\n",
        "evolucao = spark.sql(\"\"\" SELECT id_produto, data, rating, (SUM(rating) OVER \n",
        "(ORDER BY data))/(ROW_NUMBER()  OVER (ORDER BY data)) as average FROM reviews\n",
        "WHERE id_produto = {} ORDER BY data\"\"\".format(id_produto)) \n",
        "\n",
        "evolucao.show()\n",
        "\n",
        "\n"
      ],
      "execution_count": null,
      "outputs": [
        {
          "output_type": "stream",
          "text": [
            "+----------+----------+------+------------------+\n",
            "|id_produto|      data|rating|           average|\n",
            "+----------+----------+------+------------------+\n",
            "|         2|2001-12-16|   5.0|               5.0|\n",
            "|         2| 2002-1-24|   5.0|               5.0|\n",
            "|         2| 2002-1-28|   5.0|               5.0|\n",
            "|         2|  2002-1-7|   4.0|              4.75|\n",
            "|         2| 2002-2-14|   4.0|               4.6|\n",
            "|         2|  2002-2-6|   4.0|               4.5|\n",
            "|         2| 2002-3-23|   4.0| 4.428571428571429|\n",
            "|         2| 2002-5-23|   5.0|               4.5|\n",
            "|         2|2003-11-25|   5.0| 4.555555555555555|\n",
            "|         2| 2003-2-25|   5.0|               4.6|\n",
            "|         2| 2004-2-11|   1.0|4.2727272727272725|\n",
            "|         2|  2005-2-7|   5.0| 4.333333333333333|\n",
            "+----------+----------+------+------------------+\n",
            "\n"
          ],
          "name": "stdout"
        }
      ]
    },
    {
      "cell_type": "markdown",
      "metadata": {
        "id": "tdPG9V-3VL_I"
      },
      "source": [
        "#4) Listar os 10 produtos líderes de venda em categoria"
      ]
    },
    {
      "cell_type": "code",
      "metadata": {
        "id": "WJtybRx1VRKD",
        "colab": {
          "base_uri": "https://localhost:8080/"
        },
        "outputId": "719a86af-6261-4e85-f610-3ba61b8d4076"
      },
      "source": [
        "categoria = \"Criminology[11005]\"\n",
        "\n",
        "lideres_categorias = spark.sql(\"\"\" \n",
        "SELECT p.id_produto, p.title, c.categoria, p.salesrank FROM categorias as c\n",
        "INNER JOIN produtos as p ON c.id_produto = p.id_produto WHERE c.categoria = '{}' \n",
        "ORDER BY p.salesrank DESC LIMIT 10\"\"\".format(categoria))\n",
        "\n",
        "lideres_categorias.show()\n",
        "\n"
      ],
      "execution_count": null,
      "outputs": [
        {
          "output_type": "stream",
          "text": [
            "+----------+--------------------+------------------+---------+\n",
            "|id_produto|               title|         categoria|salesrank|\n",
            "+----------+--------------------+------------------+---------+\n",
            "|    196343|Uniform Crime Rep...|Criminology[11005]|  3158228|\n",
            "|     30755|Searching for a D...|Criminology[11005]|  3092830|\n",
            "|    431227|Violent Racism: V...|Criminology[11005]|  3049934|\n",
            "|    223783|     Corporate Fraud|Criminology[11005]|  2662778|\n",
            "|     78671|European Democrac...|Criminology[11005]|  2651679|\n",
            "|     25715|Money Laundering ...|Criminology[11005]|  2422943|\n",
            "|     18797|Tradition of the ...|Criminology[11005]|  2411074|\n",
            "|     84905|Common Sense Poli...|Criminology[11005]|  2385686|\n",
            "|    514491|Black-Jewish Rela...|Criminology[11005]|  2297994|\n",
            "|    307584|European Democrac...|Criminology[11005]|  2248960|\n",
            "+----------+--------------------+------------------+---------+\n",
            "\n"
          ],
          "name": "stdout"
        }
      ]
    },
    {
      "cell_type": "markdown",
      "metadata": {
        "id": "nFstyfkdPz74"
      },
      "source": [
        "#5) Listar os 10 produtos com a maior média de ratings por grupo (Group) de produtos"
      ]
    },
    {
      "cell_type": "code",
      "metadata": {
        "colab": {
          "base_uri": "https://localhost:8080/"
        },
        "id": "acTUNH_7J8VO",
        "outputId": "b30b097e-6844-4826-d629-8b08f7b0fb7e"
      },
      "source": [
        "produtos_grupos = spark.sql(\"\"\" \n",
        "SELECT id_produto, title, group, avg_rating FROM (SELECT *, ROW_NUMBER() OVER \n",
        "(PARTITION BY group ORDER BY avg_rating DESC) AS row FROM produtos) \n",
        "WHERE row <= 10 \n",
        "\"\"\") \n",
        "\n",
        "produtos_grupos.show(1000)\n"
      ],
      "execution_count": null,
      "outputs": [
        {
          "output_type": "stream",
          "text": [
            "+----------+--------------------+------------+----------+\n",
            "|id_produto|               title|       group|avg_rating|\n",
            "+----------+--------------------+------------+----------+\n",
            "|        71|Jonny Quest - Ban...|       Video|       5.0|\n",
            "|       180|Barney: Sing and ...|       Video|       5.0|\n",
            "|       229|Bob Newhart - But...|       Video|       5.0|\n",
            "|       251| The Glass Menagerie|       Video|       5.0|\n",
            "|       391|National Geograph...|       Video|       5.0|\n",
            "|       415|     Wow Gospel 1999|       Video|       5.0|\n",
            "|       442|It's Arbor Day, C...|       Video|       5.0|\n",
            "|       669|   The Sweetest Gift|       Video|       5.0|\n",
            "|       873|The Best of The S...|       Video|       5.0|\n",
            "|       887|Dixie Carter's Un...|       Video|       5.0|\n",
            "|       922|Party Tyme Karaok...|         Toy|       5.0|\n",
            "|    257106|  IlluStory Book Kit|         Toy|       5.0|\n",
            "|    305664|Photostory Junior...|         Toy|       5.0|\n",
            "|    465900|Wizard Card Game ...|         Toy|       5.0|\n",
            "|    327405|Party Tyme Karaok...|         Toy|       4.0|\n",
            "|    272037|Party Tyme Karaok...|         Toy|       3.5|\n",
            "|     11660|The Songs of Brit...|         Toy|       3.0|\n",
            "|    421292|R- Photostory Senior|         Toy|       0.0|\n",
            "|       176|Avengers '67 - Se...|         DVD|       5.0|\n",
            "|       211|DC Talk: Free at ...|         DVD|       5.0|\n",
            "|       515|Anne-Sophie Mutte...|         DVD|       5.0|\n",
            "|       653|Cowboy Bebop - Se...|         DVD|       5.0|\n",
            "|       806|The Adventures of...|         DVD|       5.0|\n",
            "|      1627|Richard Strauss -...|         DVD|       5.0|\n",
            "|      1640|I Love Lucy - Sea...|         DVD|       5.0|\n",
            "|      1700|Weird Al Yankovic...|         DVD|       5.0|\n",
            "|      1722|          The Blonde|         DVD|       5.0|\n",
            "|      1787|Business is Business|         DVD|       5.0|\n",
            "|    310467|Yoga Kit Living Arts|      Sports|       4.0|\n",
            "|    197564|Baby'S Record Kee...|Baby Product|       4.5|\n",
            "|     51902|PRIMA PUBLISHING ...| Video Games|       2.5|\n",
            "|         1|Patterns of Preac...|        Book|       5.0|\n",
            "|         3|World War II Alli...|        Book|       5.0|\n",
            "|        11|Resetting the Clo...|        Book|       5.0|\n",
            "|        20|Computed Tomograp...|        Book|       5.0|\n",
            "|        31|Backroad Buffets ...|        Book|       5.0|\n",
            "|        33|Double Jeopardy (...|        Book|       5.0|\n",
            "|        40|Renovations: A Fa...|        Book|       5.0|\n",
            "|        47|How to Kill a Mon...|        Book|       5.0|\n",
            "|        53|Baby Boomer Retir...|        Book|       5.0|\n",
            "|        54|Betsy & Tacy Go o...|        Book|       5.0|\n",
            "|        18|         Sol to Soul|       Music|       5.0|\n",
            "|        50|          Still Life|       Music|       5.0|\n",
            "|       208|What's on Your Mi...|       Music|       5.0|\n",
            "|       227|     Lush Mechanique|       Music|       5.0|\n",
            "|       239|Johnny Bush - 14 ...|       Music|       5.0|\n",
            "|       246|      One More Night|       Music|       5.0|\n",
            "|       293|              Riddle|       Music|       5.0|\n",
            "|       303|   Singin' Some Soul|       Music|       5.0|\n",
            "|       318|Roadside (2001 Of...|       Music|       5.0|\n",
            "|       353|        Motown Party|       Music|       5.0|\n",
            "|     96696|RINGDISC Wagner: ...|    Software|       5.0|\n",
            "|    527037|ClickArt Christia...|    Software|       5.0|\n",
            "|    532431|Just Enough Vocal...|    Software|       5.0|\n",
            "|    243257|WINDOWS NT SERVER...|    Software|       4.0|\n",
            "|    456958|Zondervan Bible S...|    Software|       3.5|\n",
            "|    253628|Hal Leonard Begin...|          CE|       4.0|\n",
            "|    289495|FRANKLIN COMP. KJ...|          CE|       3.0|\n",
            "|    224434|  SPELLING CORRECTOR|          CE|       0.0|\n",
            "|    228901|Hal Leonard Begin...|          CE|       0.0|\n",
            "+----------+--------------------+------------+----------+\n",
            "\n"
          ],
          "name": "stdout"
        }
      ]
    },
    {
      "cell_type": "markdown",
      "metadata": {
        "id": "ogc163Gdi6MC"
      },
      "source": [
        "#6) Listar a 5 categorias de produto com a maior média geral de ratings "
      ]
    },
    {
      "cell_type": "code",
      "metadata": {
        "colab": {
          "base_uri": "https://localhost:8080/"
        },
        "id": "irLWx9mYSfWp",
        "outputId": "baa8b4db-339b-4026-8024-b523c1923f42"
      },
      "source": [
        "categoria_media = spark.sql(\"\"\" \n",
        "SELECT categoria, AVG(avg_rating) FROM produtos as p INNER JOIN categorias as c \n",
        "ON p.id_produto = c.id_produto GROUP BY categoria ORDER BY avg(avg_rating) DESC \n",
        "LIMIT 5 \n",
        "\"\"\") \n",
        "\n",
        "categoria_media.show()"
      ],
      "execution_count": null,
      "outputs": [
        {
          "output_type": "stream",
          "text": [
            "+--------------------+---------------+\n",
            "|           categoria|avg(avg_rating)|\n",
            "+--------------------+---------------+\n",
            "|Johnson, Brooke[1...|            5.0|\n",
            "|CDs Under $7[519436]|            5.0|\n",
            "|     Political[5099]|            5.0|\n",
            "|  Craft Kits[288170]|            5.0|\n",
            "|Singer, Isaac Bas...|            5.0|\n",
            "+--------------------+---------------+\n",
            "\n"
          ],
          "name": "stdout"
        }
      ]
    },
    {
      "cell_type": "markdown",
      "metadata": {
        "id": "X4xvtbSdVGVu"
      },
      "source": [
        "#7) Listar os 10 clientes que mais fizeram comentários por grupo (Group) de produto"
      ]
    },
    {
      "cell_type": "code",
      "metadata": {
        "id": "xBpLcezbkEPR",
        "colab": {
          "base_uri": "https://localhost:8080/"
        },
        "outputId": "f45b5872-a517-4765-a8a1-bd7bea9d8a72"
      },
      "source": [
        "group = \"Book\"\n",
        "\n",
        "comentarios_grupo = spark.sql(\"\"\" \n",
        "SELECT group,cliente,count(cliente) as quantidade_de_comentarios FROM reviews INNER JOIN produtos \n",
        "ON reviews.id_produto = produtos.id_produto  WHERE group = '{}' GROUP BY group, \n",
        "cliente ORDER BY group, quantidade_de_comentarios DESC LIMIT 10\n",
        "\"\"\".format(group))\n",
        "\n",
        "comentarios_grupo.show(50)\n"
      ],
      "execution_count": null,
      "outputs": [
        {
          "output_type": "stream",
          "text": [
            "+-----+--------------+-------------------------+\n",
            "|group|       cliente|quantidade_de_comentarios|\n",
            "+-----+--------------+-------------------------+\n",
            "| Book| ATVPDKIKX0DER|                   643185|\n",
            "| Book|A3UN6WX5RRO2AG|                   154531|\n",
            "| Book|A14OJS0VWMOSWO|                     9589|\n",
            "| Book|   AFVQZQ8PW0L|                     5441|\n",
            "| Book|A1K1JW1C5CUSUZ|                     3562|\n",
            "| Book|A2NJO6YE954DBH|                     2055|\n",
            "| Book|A3QVAKVRAH657N|                     1651|\n",
            "| Book|A1NATT3PN24QWY|                     1535|\n",
            "| Book|A1D2C0WDCSHUWZ|                     1508|\n",
            "| Book|A2ODBHT4URXVXQ|                     1469|\n",
            "+-----+--------------+-------------------------+\n",
            "\n"
          ],
          "name": "stdout"
        }
      ]
    },
    {
      "cell_type": "code",
      "metadata": {
        "id": "u1BVUhJ2vQWe"
      },
      "source": [
        ""
      ],
      "execution_count": null,
      "outputs": []
    }
  ]
}