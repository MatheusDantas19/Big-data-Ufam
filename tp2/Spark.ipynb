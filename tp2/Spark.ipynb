{
  "nbformat": 4,
  "nbformat_minor": 0,
  "metadata": {
    "colab": {
      "name": "Spark.ipynb",
      "provenance": [],
      "collapsed_sections": []
    },
    "kernelspec": {
      "display_name": "Python 3",
      "name": "python3"
    },
    "language_info": {
      "name": "python"
    }
  },
  "cells": [
    {
      "cell_type": "markdown",
      "metadata": {
        "id": "pts5FH2ad_8R"
      },
      "source": [
        "#Baixando o Spark"
      ]
    },
    {
      "cell_type": "code",
      "metadata": {
        "id": "cctFPvQOQk7C"
      },
      "source": [
        "!wget -q https://archive.apache.org/dist/spark/spark-2.4.4/spark-2.4.4-bin-hadoop2.7.tgz\n",
        "!tar xf spark-2.4.4-bin-hadoop2.7.tgz\n",
        "!pip install -q findspark\n",
        "\n",
        "!rm -rf spark-2.4.4-bin-hadoop2.7.tgz"
      ],
      "execution_count": null,
      "outputs": []
    },
    {
      "cell_type": "markdown",
      "metadata": {
        "id": "bqGZddQaeEW5"
      },
      "source": [
        "#Baixando o java 8"
      ]
    },
    {
      "cell_type": "code",
      "metadata": {
        "colab": {
          "base_uri": "https://localhost:8080/"
        },
        "id": "i5RaTVAAxkIK",
        "outputId": "a43f0436-f2fb-49c9-9ab0-194d831567ad"
      },
      "source": [
        "!apt update \n",
        "!apt-get install openjdk-8-jdk-headless -qq > /dev/null\n",
        "!update-alternatives --set java /usr/lib/jvm/java-8-openjdk-amd64/jre/bin/java"
      ],
      "execution_count": null,
      "outputs": [
        {
          "output_type": "stream",
          "text": [
            "\u001b[33m\r0% [Working]\u001b[0m\r            \rGet:1 http://security.ubuntu.com/ubuntu bionic-security InRelease [88.7 kB]\n",
            "\u001b[33m\r0% [Connecting to archive.ubuntu.com (91.189.88.142)] [1 InRelease 14.2 kB/88.7\u001b[0m\r                                                                               \rGet:2 https://cloud.r-project.org/bin/linux/ubuntu bionic-cran40/ InRelease [3,626 B]\n",
            "Ign:3 https://developer.download.nvidia.com/compute/cuda/repos/ubuntu1804/x86_64  InRelease\n",
            "Get:4 http://ppa.launchpad.net/c2d4u.team/c2d4u4.0+/ubuntu bionic InRelease [15.9 kB]\n",
            "Ign:5 https://developer.download.nvidia.com/compute/machine-learning/repos/ubuntu1804/x86_64  InRelease\n",
            "Hit:6 http://archive.ubuntu.com/ubuntu bionic InRelease\n",
            "Get:7 https://developer.download.nvidia.com/compute/cuda/repos/ubuntu1804/x86_64  Release [697 B]\n",
            "Hit:8 https://developer.download.nvidia.com/compute/machine-learning/repos/ubuntu1804/x86_64  Release\n",
            "Get:9 https://developer.download.nvidia.com/compute/cuda/repos/ubuntu1804/x86_64  Release.gpg [836 B]\n",
            "Get:10 http://archive.ubuntu.com/ubuntu bionic-updates InRelease [88.7 kB]\n",
            "Hit:11 http://ppa.launchpad.net/cran/libgit2/ubuntu bionic InRelease\n",
            "Get:12 https://cloud.r-project.org/bin/linux/ubuntu bionic-cran40/ Packages [60.5 kB]\n",
            "Get:13 http://archive.ubuntu.com/ubuntu bionic-backports InRelease [74.6 kB]\n",
            "Hit:14 http://ppa.launchpad.net/deadsnakes/ppa/ubuntu bionic InRelease\n",
            "Get:15 http://security.ubuntu.com/ubuntu bionic-security/restricted amd64 Packages [423 kB]\n",
            "Get:16 http://ppa.launchpad.net/graphics-drivers/ppa/ubuntu bionic InRelease [21.3 kB]\n",
            "Get:17 http://security.ubuntu.com/ubuntu bionic-security/main amd64 Packages [2,152 kB]\n",
            "Get:18 http://security.ubuntu.com/ubuntu bionic-security/universe amd64 Packages [1,412 kB]\n",
            "Ign:20 https://developer.download.nvidia.com/compute/cuda/repos/ubuntu1804/x86_64  Packages\n",
            "Get:20 https://developer.download.nvidia.com/compute/cuda/repos/ubuntu1804/x86_64  Packages [796 kB]\n",
            "Get:21 http://ppa.launchpad.net/c2d4u.team/c2d4u4.0+/ubuntu bionic/main Sources [1,768 kB]\n",
            "Get:22 http://archive.ubuntu.com/ubuntu bionic-updates/universe amd64 Packages [2,183 kB]\n",
            "Get:23 http://ppa.launchpad.net/c2d4u.team/c2d4u4.0+/ubuntu bionic/main amd64 Packages [904 kB]\n",
            "Get:24 http://archive.ubuntu.com/ubuntu bionic-updates/restricted amd64 Packages [452 kB]\n",
            "Get:25 http://archive.ubuntu.com/ubuntu bionic-updates/main amd64 Packages [2,583 kB]\n",
            "Get:26 http://ppa.launchpad.net/graphics-drivers/ppa/ubuntu bionic/main amd64 Packages [41.5 kB]\n",
            "Fetched 13.1 MB in 4s (3,464 kB/s)\n",
            "Reading package lists... Done\n",
            "Building dependency tree       \n",
            "Reading state information... Done\n",
            "73 packages can be upgraded. Run 'apt list --upgradable' to see them.\n",
            "update-alternatives: using /usr/lib/jvm/java-8-openjdk-amd64/jre/bin/java to provide /usr/bin/java (java) in manual mode\n"
          ],
          "name": "stdout"
        }
      ]
    },
    {
      "cell_type": "markdown",
      "metadata": {
        "id": "GEBfztXleLrl"
      },
      "source": [
        "#Importando variáveis de ambiente"
      ]
    },
    {
      "cell_type": "code",
      "metadata": {
        "id": "5L68oPLfSE3S"
      },
      "source": [
        "import os\n",
        "os.environ[\"JAVA_HOME\"] = \"/usr/lib/jvm/java-8-openjdk-amd64/\"\n",
        "os.environ[\"SPARK_HOME\"] = \"/content/spark-2.4.4-bin-hadoop2.7\"\n",
        " \n",
        "# tornar o pyspark \"importável\"\n",
        "import findspark\n",
        "findspark.init('spark-2.4.4-bin-hadoop2.7')"
      ],
      "execution_count": null,
      "outputs": []
    },
    {
      "cell_type": "code",
      "metadata": {
        "id": "f7iXt9BwZm9D"
      },
      "source": [
        ""
      ],
      "execution_count": null,
      "outputs": []
    },
    {
      "cell_type": "markdown",
      "metadata": {
        "id": "vaAP-QSIfV_h"
      },
      "source": [
        "#Importando funções"
      ]
    },
    {
      "cell_type": "code",
      "metadata": {
        "id": "j633-ceCxgxB"
      },
      "source": [
        "def limpeza(text): #Criando estrutura de dados para o arquivo da amazon\n",
        "  text = text.split('\\r\\n')\n",
        "  flag = 0\n",
        "  vet = {}\n",
        "  for index,words in enumerate(text):\n",
        "\n",
        "    if words.startswith('Id:'):\n",
        "      vet['id'] = words.split()[1].strip()\n",
        "\n",
        "    elif words.startswith('ASIN:'):\n",
        "      vet['asin'] = words.split('ASIN:')[1].strip()\n",
        "        \n",
        "    elif words.startswith('  title:'):\n",
        "      vet['title'] = words.split('title: ')[1].strip()\n",
        "\n",
        "    elif words.startswith('  group:'):\n",
        "      vet['group'] = words.split('group:')[1].strip()\n",
        "\n",
        "    elif words.startswith('  salesrank:'):\n",
        "      vet['salesrank'] = words.split('salesrank:')[1].strip()\n",
        "\n",
        "    elif words.startswith('  similar:'):\n",
        "      if words.strip()[9] != 0:\n",
        "        vet['similar'] = words.split()[2:]\n",
        "      \n",
        "    elif words.startswith('  categories:'):\n",
        "      vet['categories'] = []\n",
        "\n",
        "    elif words.startswith('   |'):\n",
        "      categories = words.split('|')\n",
        "      if len(categories) == 1:\n",
        "          pass\n",
        "      else:\n",
        "          vet['categories'].append(categories[len(categories)-1])\n",
        "\n",
        "    elif words.startswith('  reviews:'):\n",
        "      vet['avg_rating'] =  words.split(': ')[4]\n",
        "      vet['reviews'] = []\n",
        "\n",
        "    elif words.startswith('    2') or words.startswith('    1'):\n",
        "      aux = words.split()\n",
        "      vet['reviews'].append({'data':aux[0], 'cliente':aux[2], \n",
        "                             'rating':aux[4], 'votes':aux[6], 'helpful':aux[8]})\n",
        "            \n",
        "  return vet\n",
        "\n",
        "def limpeza2(word): #remove o id[0]\n",
        "  if len(word) != 0 and len(word) > 2 :\n",
        "    return word\n",
        "\n",
        "def transformList(word): #transformar para lista para fazer melhor manipulações\n",
        "  lista = []\n",
        "  for i in word:\n",
        "    for j in i:\n",
        "      lista.append(j)\n",
        "\n",
        "  return lista\n",
        "\n",
        "def media(anterior, valor, tamanho): #media de diaas\n",
        "  vet = float(anterior) + (float(valor)-float(anterior))/float(tamanho)\n",
        "  return round(vet,5)\n",
        "\n",
        "def oi2(busca): #Seleciona dados com base group == group e media in lista_media[]\n",
        "  global filtrado\n",
        "  contador = 0\n",
        "  vet = {}\n",
        "  vet['result'] = []\n",
        "  for i in filtrado:\n",
        "    if i[0] == busca[1] and busca[2] in i[1]:\n",
        "      vet['result'].append({'title': busca[0], 'group': busca[1], 'avg':busca[2]}) \n",
        "      contador+=1\n",
        "\n",
        "  return vet\n",
        "\n"
      ],
      "execution_count": null,
      "outputs": []
    },
    {
      "cell_type": "markdown",
      "metadata": {
        "id": "IAW10iYgPfkH"
      },
      "source": [
        "#Importanto biblioteca e Escolhendo o Produto\n"
      ]
    },
    {
      "cell_type": "code",
      "metadata": {
        "id": "qxq33uEsPXBM"
      },
      "source": [
        "from pyspark import SparkConf, SparkContext, SparkFiles\n",
        "import numpy as np\n",
        "import math\n",
        "import operator\n",
        "import statistics\n",
        "import re\n",
        "\n",
        "ID_PRODUTO = '2'\n",
        "\n",
        "conf = SparkConf().setMaster(\"local[*]\").setAppName(\"Spark\")\n",
        "sc = SparkContext.getOrCreate(conf=conf)\n",
        "sc._jsc.hadoopConfiguration().set(\"textinputformat.record.delimiter\", \"\\r\\n\\r\\n\")"
      ],
      "execution_count": null,
      "outputs": []
    },
    {
      "cell_type": "markdown",
      "metadata": {
        "id": "x0wsSL-LfneF"
      },
      "source": [
        "#Colocando o arquivo amazon-meta.txt no RDD"
      ]
    },
    {
      "cell_type": "code",
      "metadata": {
        "id": "_5qKZ-iraEvj"
      },
      "source": [
        "url = \"https://snap.stanford.edu/data/bigdata/amazon/amazon-meta.txt.gz\"\n",
        "\n",
        "sc.addFile(url)\n",
        "file_name = re.split(pattern='/', string=url)[-1]\n",
        "file_name = SparkFiles.get(file_name)\n",
        "text_file = sc.textFile(file_name)"
      ],
      "execution_count": null,
      "outputs": []
    },
    {
      "cell_type": "markdown",
      "metadata": {
        "id": "uk7YB0FxftAc"
      },
      "source": [
        "#Testando o arquivo no RDD"
      ]
    },
    {
      "cell_type": "code",
      "metadata": {
        "colab": {
          "base_uri": "https://localhost:8080/"
        },
        "id": "57jYlrAffyRJ",
        "outputId": "4cfb76a2-fbc1-4b1e-af8c-69aac5181853"
      },
      "source": [
        "print(text_file.take(2))"
      ],
      "execution_count": null,
      "outputs": [
        {
          "output_type": "stream",
          "text": [
            "['# Full information about Amazon Share the Love products\\r\\nTotal items: 548552', 'Id:   0\\r\\nASIN: 0771044445\\r\\n  discontinued product']\n"
          ],
          "name": "stdout"
        }
      ]
    },
    {
      "cell_type": "markdown",
      "metadata": {
        "id": "Em6knSp3PYYw"
      },
      "source": [
        "#1) Dado produto, listar os 5 comentários mais úteis e com maior avaliação e os 5 comentários mais úteis e com menor avaliação\n"
      ]
    },
    {
      "cell_type": "code",
      "metadata": {
        "colab": {
          "base_uri": "https://localhost:8080/"
        },
        "id": "rNlZMtBIqBEl",
        "outputId": "557b9fbc-d806-4c24-9343-69112d21e02e"
      },
      "source": [
        "lines = text_file.map(limpeza).filter(limpeza2)\n",
        "\n",
        "filtrado = lines.filter(lambda x: x['id'] == ID_PRODUTO).map(lambda x: x['reviews']).take(1)\n",
        "comentarios = transformList(filtrado)\n",
        "\n",
        "comentarios_uteis = sorted(comentarios, key = lambda i: (int(i['helpful']), int(i['rating'])), reverse=True)[0:5]\n",
        "comentarios_uteis = sorted(comentarios_uteis, key = lambda i: int(i['rating']), reverse=True)\n",
        "\n",
        "comentarios_menos_uteis = sorted(comentarios, key = lambda i: (int(i['helpful']), int(i['rating'])))[0:5]\n",
        "comentarios_menos_uteis = sorted(comentarios_uteis, key = lambda i: int(i['rating']))\n",
        "\n",
        "\n",
        "print(\"5 comentários mais úteis ordenados pela maior avaliação\")\n",
        "for i in range(0,5):\n",
        " print(comentarios_uteis[i])\n",
        "\n",
        "\n",
        "print(\"\\n5 comentários mais úteis ordenados pela menor avaliação\")\n",
        "for i in range(0,5):\n",
        " print(comentarios_menos_uteis[i])"
      ],
      "execution_count": null,
      "outputs": [
        {
          "output_type": "stream",
          "text": [
            "5 comentários mais úteis ordenados pela maior avaliação\n",
            "{'data': '2002-1-24', 'cliente': 'A13SG9ACZ9O5IM', 'rating': '5', 'votes': '8', 'helpful': '8'}\n",
            "{'data': '2002-5-23', 'cliente': 'A1GIL64QK68WKL', 'rating': '5', 'votes': '8', 'helpful': '8'}\n",
            "{'data': '2002-2-6', 'cliente': 'A2P6KAWXJ16234', 'rating': '4', 'votes': '16', 'helpful': '16'}\n",
            "{'data': '2002-3-23', 'cliente': 'A3GO7UV9XX14D8', 'rating': '4', 'votes': '6', 'helpful': '6'}\n",
            "{'data': '2004-2-11', 'cliente': 'A1CP26N8RHYVVO', 'rating': '1', 'votes': '13', 'helpful': '9'}\n",
            "\n",
            "5 comentários mais úteis ordenados pela menor avaliação\n",
            "{'data': '2004-2-11', 'cliente': 'A1CP26N8RHYVVO', 'rating': '1', 'votes': '13', 'helpful': '9'}\n",
            "{'data': '2002-2-6', 'cliente': 'A2P6KAWXJ16234', 'rating': '4', 'votes': '16', 'helpful': '16'}\n",
            "{'data': '2002-3-23', 'cliente': 'A3GO7UV9XX14D8', 'rating': '4', 'votes': '6', 'helpful': '6'}\n",
            "{'data': '2002-1-24', 'cliente': 'A13SG9ACZ9O5IM', 'rating': '5', 'votes': '8', 'helpful': '8'}\n",
            "{'data': '2002-5-23', 'cliente': 'A1GIL64QK68WKL', 'rating': '5', 'votes': '8', 'helpful': '8'}\n"
          ],
          "name": "stdout"
        }
      ]
    },
    {
      "cell_type": "markdown",
      "metadata": {
        "id": "8JDxD8-nPmlY"
      },
      "source": [
        "#2) Dado um produto, listar os produtos similares com maiores vendas do que ele\n"
      ]
    },
    {
      "cell_type": "code",
      "metadata": {
        "colab": {
          "base_uri": "https://localhost:8080/"
        },
        "id": "g4DZ4FQNbltX",
        "outputId": "8ee89a1d-8e63-4235-d912-17b2bde4e804"
      },
      "source": [
        "filtrado = lines.filter(lambda x: x['id'] == ID_PRODUTO).map(lambda x: [x['similar'],x['salesrank']]).take(1)\n",
        "result = lines.filter(lambda x: x['asin'] in filtrado[0][0] and int(x['salesrank']) < int(filtrado[0][1])).map(lambda x: [x['title'], x['salesrank']]).collect()\n",
        "\n",
        "print(\"Dado um produto, listar os produtos similares com maiores vendas do que ele são:\")\n",
        "for i in result:\n",
        "  print(i)"
      ],
      "execution_count": null,
      "outputs": [
        {
          "output_type": "stream",
          "text": [
            "Dado um produto, listar os produtos similares com maiores vendas do que ele são:\n",
            "['Yule: A Celebration of Light and Warmth', '103012']\n",
            "['Midsummer: Magical Celebrations of the Summer Solstice', '159277']\n",
            "['Lammas', '58836']\n"
          ],
          "name": "stdout"
        }
      ]
    },
    {
      "cell_type": "markdown",
      "metadata": {
        "id": "KAf_rrr-PrD5"
      },
      "source": [
        "#3) Dado um produto, mostrar a evolução diária das médias de avaliação ao longo do intervalo de tempo coberto no arquivo de entrada"
      ]
    },
    {
      "cell_type": "code",
      "metadata": {
        "colab": {
          "base_uri": "https://localhost:8080/"
        },
        "id": "YoEE8p9iqMsU",
        "outputId": "138b88d0-19cf-4b0a-b4d6-b30804d58a78"
      },
      "source": [
        "filtrado = lines.filter(lambda x: x['id'] == ID_PRODUTO).map(lambda x: x['reviews']).collect()\n",
        "filtrado = transformList(filtrado)\n",
        "\n",
        "vet_aux = [0]\n",
        "for word in filtrado:\n",
        "    vet_aux.append(media( vet_aux[len(vet_aux)-1], float(word['rating']), len(vet_aux))) \n",
        "vet_aux.pop(0)\n",
        "\n",
        "\n",
        "print('A evolução diária das médias de avaliação ao longo do intervalo de tempo: ')\n",
        "contador = 0\n",
        "for word in filtrado:\n",
        "  print('data:',word['data'],' rating:',word['rating'], ' average:',end='')\n",
        "  print(vet_aux[contador])\n",
        "  contador+=1\n"
      ],
      "execution_count": null,
      "outputs": [
        {
          "output_type": "stream",
          "text": [
            "A evolução diária das médias de avaliação ao longo do intervalo de tempo: \n",
            "data: 2001-12-16  rating: 5  average:5.0\n",
            "data: 2002-1-7  rating: 4  average:4.5\n",
            "data: 2002-1-24  rating: 5  average:4.66667\n",
            "data: 2002-1-28  rating: 5  average:4.75\n",
            "data: 2002-2-6  rating: 4  average:4.6\n",
            "data: 2002-2-14  rating: 4  average:4.5\n",
            "data: 2002-3-23  rating: 4  average:4.42857\n",
            "data: 2002-5-23  rating: 5  average:4.5\n",
            "data: 2003-2-25  rating: 5  average:4.55556\n",
            "data: 2003-11-25  rating: 5  average:4.6\n",
            "data: 2004-2-11  rating: 1  average:4.27273\n",
            "data: 2005-2-7  rating: 5  average:4.33334\n"
          ],
          "name": "stdout"
        }
      ]
    },
    {
      "cell_type": "markdown",
      "metadata": {
        "id": "tdPG9V-3VL_I"
      },
      "source": [
        "#4) Listar os 10 produtos líderes de venda em categoria"
      ]
    },
    {
      "cell_type": "code",
      "metadata": {
        "colab": {
          "base_uri": "https://localhost:8080/"
        },
        "id": "WJtybRx1VRKD",
        "outputId": "b4364142-b260-4a0e-9925-7a1fbba68ff7"
      },
      "source": [
        "categoria = \"Criminology[11005]\"\n",
        "\n",
        "def oi(word):\n",
        "  global categoria\n",
        "  vet = []\n",
        "  for i in word['categories']:\n",
        "    if categoria == i:\n",
        "      vet.append((word['title'],i,int(word['salesrank']),int(word['id'])))\n",
        "  return vet\n",
        "\n",
        "filtrado = lines.map(oi).flatMap(lambda x: x).sortBy(lambda x: (x[1],-x[2])).take(10)\n",
        "\n",
        "print('Categoria:',filtrado[0][1])\n",
        "for i in filtrado:\n",
        "  print('  ','ID',i[3],'',end='')\n",
        "  print(i[0],'---- SalesRank:',i[2])\n",
        "  contador+=1\n",
        "\n"
      ],
      "execution_count": null,
      "outputs": [
        {
          "output_type": "stream",
          "text": [
            "Categoria: Criminology[11005]\n",
            "   ID 196343 Uniform Crime Reports: Crime in the U.S., 1998 (Uniform Crime Reports: Crime in the U.S.) ---- SalesRank: 3158228\n",
            "   ID 30755 Searching for a Demon: The Media Construction of the Militia Movement ---- SalesRank: 3092830\n",
            "   ID 431227 Violent Racism: Victimization , Policing, and Social Context (Clarendon Studies in Criminology) ---- SalesRank: 3049934\n",
            "   ID 223783 Corporate Fraud ---- SalesRank: 2662778\n",
            "   ID 78671 European Democracies Against Terrorism: Governmental Policies and Intergovernmental Cooperation (Oati International Series in Law and Society) ---- SalesRank: 2651679\n",
            "   ID 25715 Money Laundering and Financial Intermediaries (Studies in Comparative Corporate and Financial Law, V. 8.) ---- SalesRank: 2422943\n",
            "   ID 18797 Tradition of the Law and Law of the Tradition : Law, State, and Social Control in China (Contributions in Criminology and Penology) ---- SalesRank: 2411074\n",
            "   ID 84905 Common Sense Police Supervision: A How-To Manual for the First-Line Supervisor ---- SalesRank: 2385686\n",
            "   ID 514491 Black-Jewish Relations on Trial: Leo Frank and Jim Conley in the New South ---- SalesRank: 2297994\n",
            "   ID 307584 European Democracies Against Terrorism: Governmental Policies and Intergovernmental Cooperation (Onati International Series in Law and Society) ---- SalesRank: 2248960\n"
          ],
          "name": "stdout"
        }
      ]
    },
    {
      "cell_type": "markdown",
      "metadata": {
        "id": "nFstyfkdPz74"
      },
      "source": [
        "#5) Listar os 10 produtos com a maior média de ratings por grupo (Group) de produtos"
      ]
    },
    {
      "cell_type": "code",
      "metadata": {
        "colab": {
          "base_uri": "https://localhost:8080/"
        },
        "id": "acTUNH_7J8VO",
        "outputId": "1f93d1a8-96a2-4408-9261-9fcfdb68d6a2"
      },
      "source": [
        "filtrado = lines.map(lambda x: (x['group'],x['avg_rating'])).groupByKey().map(lambda x: (x[0],sorted(list(x[1])))).map(lambda x: (x[0],x[1][-10:])).collect()\n",
        "\n",
        "busca = lines.map(lambda x: (x['title'], x['group'], x['avg_rating']))\n",
        "busca = busca.map(oi2).filter(lambda x: x['result'] != []).collect()\n",
        "\n",
        "contador = {\n",
        "    'Book':0,\n",
        "    'Music':0,\n",
        "    'Software':0,\n",
        "    'Video':0,\n",
        "    'CE':0,\n",
        "    'Baby Product': 0,\n",
        "    'DVD': 0,\n",
        "    'Video Games':0,\n",
        "    'Toy':0\n",
        "}\n",
        "\n",
        "vet = []\n",
        "\n",
        "for i in busca:\n",
        "  index = i['result'][0]['group']\n",
        "  if index in list(contador.keys()) and contador[index] < 10:\n",
        "    contador[index] += 1\n",
        "    vet.append(i['result'][0])\n",
        "\n",
        "vet = sorted(vet, key = lambda i: (i['group'], float(i['avg'])))\n",
        "group = vet[0]['group']\n",
        "print('Group:',group)\n",
        "\n",
        "for i in vet:\n",
        "  if i['group'] !=  group:\n",
        "    group = i['group']\n",
        "    print('Group:',group)\n",
        "  \n",
        "  print(i)\n",
        "\n",
        "# for i in filtrado:\n",
        "#   print(i[0],len(i[1]))"
      ],
      "execution_count": null,
      "outputs": [
        {
          "output_type": "stream",
          "text": [
            "Group: Baby Product\n",
            "{'title': \"Baby'S Record Keeper And Memory Box\", 'group': 'Baby Product', 'avg': '4.5'}\n",
            "Group: Book\n",
            "{'title': 'Patterns of Preaching: A Sermon Sampler', 'group': 'Book', 'avg': '5'}\n",
            "{'title': 'World War II Allied Fighter Planes Trading Cards', 'group': 'Book', 'avg': '5'}\n",
            "{'title': 'Resetting the Clock : Five Anti-Aging Hormones That Improve and Extend Life', 'group': 'Book', 'avg': '5'}\n",
            "{'title': 'Computed Tomography : Fundamentals, System Technology, Image Quality, Applications', 'group': 'Book', 'avg': '5'}\n",
            "{'title': 'Backroad Buffets & Country Cafes: A Southern Guide to Meat-And-Threes & Down-Home Dining', 'group': 'Book', 'avg': '5'}\n",
            "{'title': 'Double Jeopardy (T*Witches, 6)', 'group': 'Book', 'avg': '5'}\n",
            "{'title': 'Renovations: A Father and Son Rebuild a House and Rediscover Each Other', 'group': 'Book', 'avg': '5'}\n",
            "{'title': 'How to Kill a Monster (Goosebumps)', 'group': 'Book', 'avg': '5'}\n",
            "{'title': 'Baby Boomer Retirement: 65 Simple Ways to Protect Your Future', 'group': 'Book', 'avg': '5'}\n",
            "{'title': 'Betsy & Tacy Go over the Big Hill (Betsy and Tacy Books)', 'group': 'Book', 'avg': '5'}\n",
            "Group: CE\n",
            "{'title': 'SPELLING CORRECTOR', 'group': 'CE', 'avg': '0'}\n",
            "{'title': 'Hal Leonard Beginning Guitar 1, Instructional Video, 30 Minutes', 'group': 'CE', 'avg': '0'}\n",
            "{'title': 'FRANKLIN COMP. KJB-1440 Electronic Holy Bible (King James Version)', 'group': 'CE', 'avg': '3'}\n",
            "{'title': 'Hal Leonard Beginning Bass Guitar 1, Instructional Video, 30 Minutes', 'group': 'CE', 'avg': '4'}\n",
            "Group: DVD\n",
            "{'title': \"Avengers '67 - Set 1, Vols. 1 & 2\", 'group': 'DVD', 'avg': '5'}\n",
            "{'title': 'DC Talk: Free at Last - The Movie', 'group': 'DVD', 'avg': '5'}\n",
            "{'title': 'Anne-Sophie Mutter - A Life with Beethoven', 'group': 'DVD', 'avg': '5'}\n",
            "{'title': 'Cowboy Bebop - Session 2', 'group': 'DVD', 'avg': '5'}\n",
            "{'title': 'The Adventures of Sherlock Holmes,  Vol. 4 (The Greek Interpreter / The Norwood Builder)', 'group': 'DVD', 'avg': '5'}\n",
            "{'title': 'Richard Strauss - Concerto for Horn', 'group': 'DVD', 'avg': '5'}\n",
            "{'title': 'I Love Lucy - Season One (Vol. 3)', 'group': 'DVD', 'avg': '5'}\n",
            "{'title': 'Weird Al Yankovic - Live', 'group': 'DVD', 'avg': '5'}\n",
            "{'title': 'The Blonde', 'group': 'DVD', 'avg': '5'}\n",
            "{'title': 'Business is Business', 'group': 'DVD', 'avg': '5'}\n",
            "Group: Music\n",
            "{'title': 'Sol to Soul', 'group': 'Music', 'avg': '5'}\n",
            "{'title': 'Still Life', 'group': 'Music', 'avg': '5'}\n",
            "{'title': 'What\\'s on Your Mind (Pure Energy) [Tommy Boy CD5/12\")', 'group': 'Music', 'avg': '5'}\n",
            "{'title': 'Lush Mechanique', 'group': 'Music', 'avg': '5'}\n",
            "{'title': 'Johnny Bush - 14 Greatest Hits', 'group': 'Music', 'avg': '5'}\n",
            "{'title': 'One More Night', 'group': 'Music', 'avg': '5'}\n",
            "{'title': 'Riddle', 'group': 'Music', 'avg': '5'}\n",
            "{'title': \"Singin' Some Soul\", 'group': 'Music', 'avg': '5'}\n",
            "{'title': 'Roadside (2001 Off-Broadway Cast)', 'group': 'Music', 'avg': '5'}\n",
            "{'title': 'Motown Party', 'group': 'Music', 'avg': '5'}\n",
            "Group: Software\n",
            "{'title': \"Zondervan Bible Study Library: Leader's Edition 5.0\", 'group': 'Software', 'avg': '3.5'}\n",
            "{'title': 'WINDOWS NT SERVER V4.0 RESOURCE', 'group': 'Software', 'avg': '4'}\n",
            "{'title': 'RINGDISC Wagner: The Ring Disc', 'group': 'Software', 'avg': '5'}\n",
            "{'title': 'ClickArt Christian Publishing Suite 3', 'group': 'Software', 'avg': '5'}\n",
            "{'title': 'Just Enough Vocals The Learning Co', 'group': 'Software', 'avg': '5'}\n",
            "Group: Toy\n",
            "{'title': 'R- Photostory Senior', 'group': 'Toy', 'avg': '0'}\n",
            "{'title': 'The Songs of Britney Spears & Christina Aguilera', 'group': 'Toy', 'avg': '3'}\n",
            "{'title': 'Party Tyme Karaoke CD: V2 Super Hits', 'group': 'Toy', 'avg': '3.5'}\n",
            "{'title': 'Party Tyme Karaoke CD Oldies', 'group': 'Toy', 'avg': '4'}\n",
            "{'title': 'Party Tyme Karaoke CD Kids Songs', 'group': 'Toy', 'avg': '5'}\n",
            "{'title': 'IlluStory Book Kit', 'group': 'Toy', 'avg': '5'}\n",
            "{'title': 'Photostory Junior Book Kit', 'group': 'Toy', 'avg': '5'}\n",
            "{'title': 'Wizard Card Game Deluxe', 'group': 'Toy', 'avg': '5'}\n",
            "Group: Video\n",
            "{'title': 'Jonny Quest - Bandit in Adventures Best Friend', 'group': 'Video', 'avg': '5'}\n",
            "{'title': 'Barney: Sing and Dance with Barney', 'group': 'Video', 'avg': '5'}\n",
            "{'title': 'Bob Newhart - Button Down Concert - Off the Record', 'group': 'Video', 'avg': '5'}\n",
            "{'title': 'The Glass Menagerie', 'group': 'Video', 'avg': '5'}\n",
            "{'title': \"National Geographic's Land of the Anaconda\", 'group': 'Video', 'avg': '5'}\n",
            "{'title': 'Wow Gospel 1999', 'group': 'Video', 'avg': '5'}\n",
            "{'title': \"It's Arbor Day, Charlie Brown\", 'group': 'Video', 'avg': '5'}\n",
            "{'title': 'The Sweetest Gift', 'group': 'Video', 'avg': '5'}\n",
            "{'title': 'The Best of The Simpsons, Boxed Set 3', 'group': 'Video', 'avg': '5'}\n",
            "{'title': \"Dixie Carter's Unworkout\", 'group': 'Video', 'avg': '5'}\n",
            "Group: Video Games\n",
            "{'title': 'PRIMA PUBLISHING Dark Cloud 2 Official Strategy Guide', 'group': 'Video Games', 'avg': '2.5'}\n"
          ],
          "name": "stdout"
        }
      ]
    },
    {
      "cell_type": "markdown",
      "metadata": {
        "id": "ogc163Gdi6MC"
      },
      "source": [
        "#6) Listar a 5 categorias de produto com a maior média geral de ratings "
      ]
    },
    {
      "cell_type": "code",
      "metadata": {
        "colab": {
          "base_uri": "https://localhost:8080/"
        },
        "id": "irLWx9mYSfWp",
        "outputId": "604a60bf-2502-440e-8161-a019627f1740"
      },
      "source": [
        "from operator import add\n",
        "\n",
        "def distribui(word):\n",
        "  array = []\n",
        "  #return word[1]\n",
        "  for i in word:\n",
        "    for j in i:\n",
        "      if len(j) != 1 and float(word[1]) > 0:\n",
        "        array.append((j,float(word[1])))\n",
        "  return array\n",
        "\n",
        "def myCountByKey(rdd):\n",
        "    return rdd.map(lambda row: (row[0], 1)).reduceByKey(add)\n",
        "\n",
        "def getMedia(word):\n",
        "  return (word[0],round(word[1][0]/word[1][1],4))\n",
        "\n",
        "filtrado = lines.map(lambda x: (x['categories'], x['avg_rating'])).map(distribui).flatMap(lambda x: x)\n",
        "\n",
        "ocorrencia = myCountByKey(filtrado)\n",
        "\n",
        "media = filtrado.reduceByKey(lambda x,y: x+y).join(ocorrencia).map(getMedia).sortBy(lambda x: -x[1]).take(5)\n",
        "\n",
        "for i in media:\n",
        "  print(i)\n",
        "\n",
        "\n"
      ],
      "execution_count": null,
      "outputs": [
        {
          "output_type": "stream",
          "text": [
            "('Image Composer[4154]', 5.0)\n",
            "('Religion & Spirituality[3201791]', 5.0)\n",
            "('Lewis, Shari[151693]', 5.0)\n",
            "('Step into Reading Phonics[12959581]', 5.0)\n",
            "('Brother Lawrence[173026]', 5.0)\n"
          ],
          "name": "stdout"
        }
      ]
    },
    {
      "cell_type": "markdown",
      "metadata": {
        "id": "X4xvtbSdVGVu"
      },
      "source": [
        "#7) Listar os 10 clientes que mais fizeram comentários por grupo (Group) de produto"
      ]
    },
    {
      "cell_type": "code",
      "metadata": {
        "colab": {
          "base_uri": "https://localhost:8080/"
        },
        "id": "xBpLcezbkEPR",
        "outputId": "f9a9ddfc-5b13-48d7-91f7-d231b8b2b175"
      },
      "source": [
        "def oi(word):\n",
        "  vet = []\n",
        "  for i in word['reviews']:\n",
        "    vet.append(((word['group'],i['cliente']), 1))\n",
        "\n",
        "  return vet\n",
        "\n",
        "filtrado = lines.filter(lambda x: x['reviews']!=[]).map(oi)\n",
        "\n",
        "flat = filtrado.flatMap(lambda x: x).reduceByKey(lambda x,y: x+y).map(lambda x: (x[0][0],(x[0][1],x[1]))).sortBy(lambda x: (x[0],-x[1][1])).collect()\n",
        "\n",
        "\n",
        "contador = 0\n",
        "group = flat[0][0]\n",
        "\n",
        "print('Group:',group)\n",
        "\n",
        "for i in flat:\n",
        "\n",
        "  if i[0] != group:\n",
        "    group = i[0]\n",
        "    contador = 0\n",
        "    print('Group:',group)\n",
        "\n",
        "  if contador <= 10:\n",
        "      print(i[1])\n",
        "      contador+=1\n"
      ],
      "execution_count": null,
      "outputs": [
        {
          "output_type": "stream",
          "text": [
            "Group: Baby Product\n",
            "('A37TFIP0OMKGMW', 1)\n",
            "('AI9SB5VKUFXDC', 1)\n",
            "('A2LAH8VX720175', 1)\n",
            "Group: Book\n",
            "('ATVPDKIKX0DER', 643185)\n",
            "('A3UN6WX5RRO2AG', 154531)\n",
            "('A14OJS0VWMOSWO', 9589)\n",
            "('AFVQZQ8PW0L', 5441)\n",
            "('A1K1JW1C5CUSUZ', 3562)\n",
            "('A2NJO6YE954DBH', 2055)\n",
            "('A3QVAKVRAH657N', 1651)\n",
            "('A1NATT3PN24QWY', 1535)\n",
            "('A1D2C0WDCSHUWZ', 1508)\n",
            "('A2ODBHT4URXVXQ', 1469)\n",
            "('A3SN9EF7GTNEU2', 1387)\n",
            "Group: CE\n",
            "('A1328SYT22GA4U', 1)\n",
            "('A13JU90C7AU3RT', 1)\n",
            "('A1J62O1S6QTHZJ', 1)\n",
            "('A1SFX3CR838F36', 1)\n",
            "('A2IX9TMXDBUCYV', 1)\n",
            "Group: DVD\n",
            "('ATVPDKIKX0DER', 63148)\n",
            "('A3UN6WX5RRO2AG', 15549)\n",
            "('A2NJO6YE954DBH', 1366)\n",
            "('AU8552YCOO5QX', 1213)\n",
            "('A3P1A63Q8L32C5', 859)\n",
            "('A3LZGLA88K0LA0', 856)\n",
            "('A82LIVYSX6WZ9', 683)\n",
            "('A152C8GYY25HAH', 675)\n",
            "('A16CZRQL23NOIW', 651)\n",
            "('A1CZICCYP2M5PX', 650)\n",
            "('AJKWF4W7QD4NS', 612)\n",
            "Group: Music\n",
            "('ATVPDKIKX0DER', 166149)\n",
            "('A3UN6WX5RRO2AG', 15875)\n",
            "('A9Q28YTLYREO7', 2760)\n",
            "('A2U49LUUY4IKQQ', 1258)\n",
            "('A1GN8UJIZLCA59', 1154)\n",
            "('A2NJO6YE954DBH', 1128)\n",
            "('A1J5KCZC8CMW9I', 1031)\n",
            "('A3MOF5KF93Q6WE', 989)\n",
            "('AXFI7TAWD6H6X', 814)\n",
            "('A38U2M9OAEJAXJ', 780)\n",
            "('A2EENLV6OQ3DYM', 776)\n",
            "Group: Software\n",
            "('AK9MWTH6LJF64', 1)\n",
            "('A3D5ICIQ8STPCH', 1)\n",
            "('A39UZ9VVRJW4P8', 1)\n",
            "('A36NHJPD24UMGJ', 1)\n",
            "('A37UFPGDSSMEV', 1)\n",
            "('A36T3O4TIC1YDQ', 1)\n",
            "('A1XQB8IU7S8WEU', 1)\n",
            "('A2I0ZWBVR0575O', 1)\n",
            "('A183K8JAQJW8LZ', 1)\n",
            "('A23DFB8IUTIZM0', 1)\n",
            "('A1EIVBXG3RD150', 1)\n",
            "Group: Sports\n",
            "('A1W180Y9O1FALI', 1)\n",
            "('A2RHSQZ7MAKKCO', 1)\n",
            "('A18ZVYTEDAOF9A', 1)\n",
            "('AL62LOJKDES3M', 1)\n",
            "('A3O8EZOX2P399L', 1)\n",
            "Group: Toy\n",
            "('AH4M07U4YC695', 2)\n",
            "('ATVPDKIKX0DER', 2)\n",
            "('A1SB7SB31ETYZH', 2)\n",
            "('AU8PR9XJ17CCB', 1)\n",
            "('A20AL96IIDAEBU', 1)\n",
            "('A1OA2ZW406NQXM', 1)\n",
            "('A3UN6WX5RRO2AG', 1)\n",
            "('AQJ2XVMHXGN9A', 1)\n",
            "('A1K9DVRKH6TZ1L', 1)\n",
            "('A2PJ7WLZ38F47S', 1)\n",
            "('AXNOIMARQCT3M', 1)\n",
            "Group: Video\n",
            "('ATVPDKIKX0DER', 72581)\n",
            "('A3UN6WX5RRO2AG', 15814)\n",
            "('A2NJO6YE954DBH', 1775)\n",
            "('AU8552YCOO5QX', 1205)\n",
            "('A3P1A63Q8L32C5', 737)\n",
            "('A20EEWWSFMZ1PN', 720)\n",
            "('A16CZRQL23NOIW', 668)\n",
            "('A3LZGLA88K0LA0', 614)\n",
            "('A2QRB6L1MCJ53G', 606)\n",
            "('A152C8GYY25HAH', 583)\n",
            "('A9Q28YTLYREO7', 579)\n",
            "Group: Video Games\n",
            "('A1M4NJYP0WNL8Q', 1)\n",
            "('A226EDS7WDF7S1', 1)\n",
            "('A3C811U31YG6FS', 1)\n"
          ],
          "name": "stdout"
        }
      ]
    },
    {
      "cell_type": "code",
      "metadata": {
        "id": "u1BVUhJ2vQWe"
      },
      "source": [
        ""
      ],
      "execution_count": null,
      "outputs": []
    }
  ]
}